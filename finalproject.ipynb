
        "papermill": {
            "default_parameters": { },
            "duration": 1747.198034,
            "end_time": "2022-12-24T18:19:47.048618",
            "environment_variables": { },
            "exception": null,
            "input_path": "__notebook__.ipynb",
            "output_path": "__notebook__.ipynb",
            "parameters": { },
            "start_time": "2022-12-24T17:50:39.850584",
            "version": "2.3.4"
        },
        "vscode": {
            "interpreter": {
                "hash": "054b8a8ab1859522654f24f6469821b8b13c4a0fd8db908465293addbf3bdc9b"
            }
        },
        "widgets": {
            "application/vnd.jupyter.widget-state+json": {
                "state": {
                    "00de0ebdebf44c619e1c1269ab3aa738": {
                        "model_module": "@jupyter-widgets/controls",
                        "model_module_version": "1.5.0",
                        "model_name": "VBoxModel",
                        "state": {
                            "_dom_classes": [ ],
                            "_model_module": "@jupyter-widgets/controls",
                            "_model_module_version": "1.5.0",
                            "_model_name": "VBoxModel",
                            "_view_count": null,
                            "_view_module": "@jupyter-widgets/controls",
                            "_view_module_version": "1.5.0",
                            "_view_name": "VBoxView",
                            "box_style": "",
                            "children": [
                                "IPY_MODEL_f988f212743848bcbfc2aaf69b6cfa20",
                                "IPY_MODEL_13d2aff55c0d4d3ba8fd74b60f1e242f"
                            ],
                            "layout": "IPY_MODEL_146d5ced8d8348518a6e20c30321fd55"
                        }
                    },
                    "13d2aff55c0d4d3ba8fd74b60f1e242f": {
                        "model_module": "@jupyter-widgets/controls",
                        "model_module_version": "1.5.0",
                        "model_name": "HBoxModel",
                        "state": {
                            "_dom_classes": [ ],
                            "_model_module": "@jupyter-widgets/controls",
                            "_model_module_version": "1.5.0",
                            "_model_name": "HBoxModel",
                            "_view_count": null,
                            "_view_module": "@jupyter-widgets/controls",
                            "_view_module_version": "1.5.0",
                            "_view_name": "HBoxView",
                            "box_style": "",
                            "children": [
                                "IPY_MODEL_b9c684ea2d4c49fdb451c1ad24aab7c5",
                                "IPY_MODEL_4a980942a0da4ea39158c776ce17f382"
                            ],
                            "layout": "IPY_MODEL_13fb7e31a16343b9865be18e474b0da2"
                        }
                    },
                    "13fb7e31a16343b9865be18e474b0da2": {
                        "model_module": "@jupyter-widgets/base",
                        "model_module_version": "1.2.0",
                        "model_name": "LayoutModel",
                        "state": {
                            "_model_module": "@jupyter-widgets/base",
                            "_model_module_version": "1.2.0",
                            "_model_name": "LayoutModel",
                            "_view_count": null,
                            "_view_module": "@jupyter-widgets/base",
                            "_view_module_version": "1.2.0",
                            "_view_name": "LayoutView",
                            "align_content": null,
                            "align_items": null,
                            "align_self": null,
                            "border": null,
                            "bottom": null,
                            "display": null,
                            "flex": null,
                            "flex_flow": null,
                            "grid_area": null,
                            "grid_auto_columns": null,
                            "grid_auto_flow": null,
                            "grid_auto_rows": null,
                            "grid_column": null,
                            "grid_gap": null,
                            "grid_row": null,
                            "grid_template_areas": null,
                            "grid_template_columns": null,
                            "grid_template_rows": null,
                            "height": null,
                            "justify_content": null,
                            "justify_items": null,
                            "left": null,
                            "margin": null,
                            "max_height": null,
                            "max_width": null,
                            "min_height": null,
                            "min_width": null,
                            "object_fit": null,
                            "object_position": null,
                            "order": null,
                            "overflow": null,
                            "overflow_x": null,
                            "overflow_y": null,
                            "padding": null,
                            "right": null,
                            "top": null,
                            "visibility": null,
                            "width": null
                        }
                    },
                    "146d5ced8d8348518a6e20c30321fd55": {
                        "model_module": "@jupyter-widgets/base",
                        "model_module_version": "1.2.0",
                        "model_name": "LayoutModel",
                        "state": {
                            "_model_module": "@jupyter-widgets/base",
                            "_model_module_version": "1.2.0",
                            "_model_name": "LayoutModel",
                            "_view_count": null,
                            "_view_module": "@jupyter-widgets/base",
                            "_view_module_version": "1.2.0",
                            "_view_name": "LayoutView",
                            "align_content": null,
                            "align_items": null,
                            "align_self": null,
                            "border": null,
                            "bottom": null,
                            "display": null,
                            "flex": null,
                            "flex_flow": null,
                            "grid_area": null,
                            "grid_auto_columns": null,
                            "grid_auto_flow": null,
                            "grid_auto_rows": null,
                            "grid_column": null,
                            "grid_gap": null,
                            "grid_row": null,
                            "grid_template_areas": null,
                            "grid_template_columns": null,
                            "grid_template_rows": null,
                            "height": null,
                            "justify_content": null,
                            "justify_items": null,
                            "left": null,
                            "margin": null,
                            "max_height": null,
                            "max_width": null,
                            "min_height": null,
                            "min_width": null,
                            "object_fit": null,
                            "object_position": null,
                            "order": null,
                            "overflow": null,
                            "overflow_x": null,
                            "overflow_y": null,
                            "padding": null,
                            "right": null,
                            "top": null,
                            "visibility": null,
                            "width": null
                        }
                    },
                    "1f6b85623a58430e97f78d45768d71c6": {
                        "model_module": "@jupyter-widgets/base",
                        "model_module_version": "1.2.0",
                        "model_name": "LayoutModel",
                        "state": {
                            "_model_module": "@jupyter-widgets/base",
                            "_model_module_version": "1.2.0",
                            "_model_name": "LayoutModel",
                            "_view_count": null,
                            "_view_module": "@jupyter-widgets/base",
                            "_view_module_version": "1.2.0",
                            "_view_name": "LayoutView",
                            "align_content": null,
                            "align_items": null,
                            "align_self": null,
                            "border": null,
                            "bottom": null,
                            "display": null,
                            "flex": null,
                            "flex_flow": null,
                            "grid_area": null,
                            "grid_auto_columns": null,
                            "grid_auto_flow": null,
                            "grid_auto_rows": null,
                            "grid_column": null,
                            "grid_gap": null,
                            "grid_row": null,
                            "grid_template_areas": null,
                            "grid_template_columns": null,
                            "grid_template_rows": null,
                            "height": null,
                            "justify_content": null,
                            "justify_items": null,
                            "left": null,
                            "margin": null,
                            "max_height": null,
                            "max_width": null,
                            "min_height": null,
                            "min_width": null,
                            "object_fit": null,
                            "object_position": null,
                            "order": null,
                            "overflow": null,
                            "overflow_x": null,
                            "overflow_y": null,
                            "padding": null,
                            "right": null,
                            "top": null,
                            "visibility": null,
                            "width": null
                        }
                    },
                    "2298fa4abf75433b91f03c09c261db96": {
                        "model_module": "@jupyter-widgets/base",
                        "model_module_version": "1.2.0",
                        "model_name": "LayoutModel",
                        "state": {
                            "_model_module": "@jupyter-widgets/base",
                            "_model_module_version": "1.2.0",
                            "_model_name": "LayoutModel",
                            "_view_count": null,
                            "_view_module": "@jupyter-widgets/base",
                            "_view_module_version": "1.2.0",
                            "_view_name": "LayoutView",
                            "align_content": null,
                            "align_items": null,
                            "align_self": null,
                            "border": null,
                            "bottom": null,
                            "display": null,
                            "flex": null,
                            "flex_flow": null,
                            "grid_area": null,
                            "grid_auto_columns": null,
                            "grid_auto_flow": null,
                            "grid_auto_rows": null,
                            "grid_column": null,
                            "grid_gap": null,
                            "grid_row": null,
                            "grid_template_areas": null,
                            "grid_template_columns": null,
                            "grid_template_rows": null,
                            "height": null,
                            "justify_content": null,
                            "justify_items": null,
                            "left": null,
                            "margin": null,
                            "max_height": null,
                            "max_width": null,
                            "min_height": null,
                            "min_width": null,
                            "object_fit": null,
                            "object_position": null,
                            "order": null,
                            "overflow": null,
                            "overflow_x": null,
                            "overflow_y": null,
                            "padding": null,
                            "right": null,
                            "top": null,
                            "visibility": null,
                            "width": null
                        }
                    },
                    "234d1819b0474b4da63380b23576be60": {
                        "model_module": "@jupyter-widgets/controls",
                        "model_module_version": "1.5.0",
                        "model_name": "DescriptionStyleModel",
                        "state": {
                            "_model_module": "@jupyter-widgets/controls",
                            "_model_module_version": "1.5.0",
                            "_model_name": "DescriptionStyleModel",
                            "_view_count": null,
                            "_view_module": "@jupyter-widgets/base",
                            "_view_module_version": "1.2.0",
                            "_view_name": "StyleView",
                            "description_width": ""
                        }
                    },
                    "2aaf489e362e450b8e138d554678650f": {
                        "model_module": "@jupyter-widgets/controls",
                        "model_module_version": "1.5.0",
                        "model_name": "ProgressStyleModel",
                        "state": {
                            "_model_module": "@jupyter-widgets/controls",
                            "_model_module_version": "1.5.0",
                            "_model_name": "ProgressStyleModel",
                            "_view_count": null,
                            "_view_module": "@jupyter-widgets/base",
                            "_view_module_version": "1.2.0",
                            "_view_name": "StyleView",
                            "bar_color": null,
                            "description_width": ""
                        }
                    },
                    "2ac12283137c475ea921f835912bfb3c": {
                        "model_module": "@jupyter-widgets/base",
                        "model_module_version": "1.2.0",
                        "model_name": "LayoutModel",
                        "state": {
                            "_model_module": "@jupyter-widgets/base",
                            "_model_module_version": "1.2.0",
                            "_model_name": "LayoutModel",
                            "_view_count": null,
                            "_view_module": "@jupyter-widgets/base",
                            "_view_module_version": "1.2.0",
                            "_view_name": "LayoutView",
                            "align_content": null,
                            "align_items": null,
                            "align_self": null,
                            "border": null,
                            "bottom": null,
                            "display": null,
                            "flex": null,
                            "flex_flow": null,
                            "grid_area": null,
                            "grid_auto_columns": null,
                            "grid_auto_flow": null,
                            "grid_auto_rows": null,
                            "grid_column": null,
                            "grid_gap": null,
                            "grid_row": null,
                            "grid_template_areas": null,
                            "grid_template_columns": null,
                            "grid_template_rows": null,
                            "height": null,
                            "justify_content": null,
                            "justify_items": null,
                            "left": null,
                            "margin": null,
                            "max_height": null,
                            "max_width": null,
                            "min_height": null,
                            "min_width": null,
                            "object_fit": null,
                            "object_position": null,
                            "order": null,
                            "overflow": null,
                            "overflow_x": null,
                            "overflow_y": null,
                            "padding": null,
                            "right": null,
                            "top": null,
                            "visibility": null,
                            "width": null
                        }
                    },
                    "31aa7c64da2245d99d9c44ad862c0fc0": {
                        "model_module": "@jupyter-widgets/base",
                        "model_module_version": "1.2.0",
                        "model_name": "LayoutModel",
                        "state": {
                            "_model_module": "@jupyter-widgets/base",
                            "_model_module_version": "1.2.0",
                            "_model_name": "LayoutModel",
                            "_view_count": null,
                            "_view_module": "@jupyter-widgets/base",
                            "_view_module_version": "1.2.0",
                            "_view_name": "LayoutView",
                            "align_content": null,
                            "align_items": null,
                            "align_self": null,
                            "border": null,
                            "bottom": null,
                            "display": null,
                            "flex": null,
                            "flex_flow": null,
                            "grid_area": null,
                            "grid_auto_columns": null,
                            "grid_auto_flow": null,
                            "grid_auto_rows": null,
                            "grid_column": null,
                            "grid_gap": null,
                            "grid_row": null,
                            "grid_template_areas": null,
                            "grid_template_columns": null,
                            "grid_template_rows": null,
                            "height": null,
                            "justify_content": null,
                            "justify_items": null,
                            "left": null,
                            "margin": null,
                            "max_height": null,
                            "max_width": null,
                            "min_height": null,
                            "min_width": null,
                            "object_fit": null,
                            "object_position": null,
                            "order": null,
                            "overflow": null,
                            "overflow_x": null,
                            "overflow_y": null,
                            "padding": null,
                            "right": null,
                            "top": null,
                            "visibility": null,
                            "width": null
                        }
                    },
                    "33956eab405b4ffeae188d9d79127fba": {
                        "model_module": "@jupyter-widgets/base",
                        "model_module_version": "1.2.0",
                        "model_name": "LayoutModel",
                        "state": {
                            "_model_module": "@jupyter-widgets/base",
                            "_model_module_version": "1.2.0",
                            "_model_name": "LayoutModel",
                            "_view_count": null,
                            "_view_module": "@jupyter-widgets/base",
                            "_view_module_version": "1.2.0",
                            "_view_name": "LayoutView",
                            "align_content": null,
                            "align_items": null,
                            "align_self": null,
                            "border": null,
                            "bottom": null,
                            "display": null,
                            "flex": null,
                            "flex_flow": null,
                            "grid_area": null,
                            "grid_auto_columns": null,
                            "grid_auto_flow": null,
                            "grid_auto_rows": null,
                            "grid_column": null,
                            "grid_gap": null,
                            "grid_row": null,
                            "grid_template_areas": null,
                            "grid_template_columns": null,
                            "grid_template_rows": null,
                            "height": null,
                            "justify_content": null,
                            "justify_items": null,
                            "left": null,
                            "margin": null,
                            "max_height": null,
                            "max_width": null,
                            "min_height": null,
                            "min_width": null,
                            "object_fit": null,
                            "object_position": null,
                            "order": null,
                            "overflow": null,
                            "overflow_x": null,
                            "overflow_y": null,
                            "padding": null,
                            "right": null,
                            "top": null,
                            "visibility": null,
                            "width": null
                        }
                    },
                    "387a3313b36d44e8ba9216c33fad93dd": {
                        "model_module": "@jupyter-widgets/controls",
                        "model_module_version": "1.5.0",
                        "model_name": "LabelModel",
                        "state": {
                            "_dom_classes": [ ],
                            "_model_module": "@jupyter-widgets/controls",
                            "_model_module_version": "1.5.0",
                            "_model_name": "LabelModel",
                            "_view_count": null,
                            "_view_module": "@jupyter-widgets/controls",
                            "_view_module_version": "1.5.0",
                            "_view_name": "LabelView",
                            "description": "",
                            "description_tooltip": null,
                            "layout": "IPY_MODEL_bd18b83585dc436b837577aefc7df438",
                            "placeholder": "​",
                            "style": "IPY_MODEL_c413c0af3df14edebd42d6e7da2da728",
                            "value": "1 / 1"
                        }
                    },
                    "3b46dbddcd074be5892b4c8533e2810d": {
                        "model_module": "@jupyter-widgets/base",
                        "model_module_version": "1.2.0",
                        "model_name": "LayoutModel",
                        "state": {
                            "_model_module": "@jupyter-widgets/base",
                            "_model_module_version": "1.2.0",
                            "_model_name": "LayoutModel",
                            "_view_count": null,
                            "_view_module": "@jupyter-widgets/base",
                            "_view_module_version": "1.2.0",
                            "_view_name": "LayoutView",
                            "align_content": null,
                            "align_items": null,
                            "align_self": null,
                            "border": null,
                            "bottom": null,
                            "display": null,
                            "flex": null,
                            "flex_flow": null,
                            "grid_area": null,
                            "grid_auto_columns": null,
                            "grid_auto_flow": null,
                            "grid_auto_rows": null,
                            "grid_column": null,
                            "grid_gap": null,
                            "grid_row": null,
                            "grid_template_areas": null,
                            "grid_template_columns": null,
                            "grid_template_rows": null,
                            "height": null,
                            "justify_content": null,
                            "justify_items": null,
                            "left": null,
                            "margin": null,
                            "max_height": null,
                            "max_width": null,
                            "min_height": null,
                            "min_width": null,
                            "object_fit": null,
                            "object_position": null,
                            "order": null,
                            "overflow": null,
                            "overflow_x": null,
                            "overflow_y": null,
                            "padding": null,
                            "right": null,
                            "top": null,
                            "visibility": null,
                            "width": null
                        }
                    },
                    "4a980942a0da4ea39158c776ce17f382": {
                        "model_module": "@jupyter-widgets/controls",
                        "model_module_version": "1.5.0",
                        "model_name": "LabelModel",
                        "state": {
                            "_dom_classes": [ ],
                            "_model_module": "@jupyter-widgets/controls",
                            "_model_module_version": "1.5.0",
                            "_model_name": "LabelModel",
                            "_view_count": null,
                            "_view_module": "@jupyter-widgets/controls",
                            "_view_module_version": "1.5.0",
                            "_view_name": "LabelView",
                            "description": "",
                            "description_tooltip": null,
                            "layout": "IPY_MODEL_a26a74fb61be4f25a1b94feafb9761ed",
                            "placeholder": "​",
                            "style": "IPY_MODEL_234d1819b0474b4da63380b23576be60",
                            "value": "548906 / 548906"
                        }
                    },
                    "4d86d55883074b279bb81b06f4decff9": {
                        "model_module": "@jupyter-widgets/controls",
                        "model_module_version": "1.5.0",
                        "model_name": "VBoxModel",
                        "state": {
                            "_dom_classes": [ ],
                            "_model_module": "@jupyter-widgets/controls",
                            "_model_module_version": "1.5.0",
                            "_model_name": "VBoxModel",
                            "_view_count": null,
                            "_view_module": "@jupyter-widgets/controls",
                            "_view_module_version": "1.5.0",
                            "_view_name": "VBoxView",
                            "box_style": "",
                            "children": [
                                "IPY_MODEL_95391d6d90064c93ac7586e64b366c20"
                            ],
                            "layout": "IPY_MODEL_599338b4049840428eb8888f133bfdfd"
                        }
                    },
                    "599338b4049840428eb8888f133bfdfd": {
                        "model_module": "@jupyter-widgets/base",
                        "model_module_version": "1.2.0",
                        "model_name": "LayoutModel",
                        "state": {
                            "_model_module": "@jupyter-widgets/base",
                            "_model_module_version": "1.2.0",
                            "_model_name": "LayoutModel",
                            "_view_count": null,
                            "_view_module": "@jupyter-widgets/base",
                            "_view_module_version": "1.2.0",
                            "_view_name": "LayoutView",
                            "align_content": null,
                            "align_items": null,
                            "align_self": null,
                            "border": null,
                            "bottom": null,
                            "display": null,
                            "flex": null,
                            "flex_flow": null,
                            "grid_area": null,
                            "grid_auto_columns": null,
                            "grid_auto_flow": null,
                            "grid_auto_rows": null,
                            "grid_column": null,
                            "grid_gap": null,
                            "grid_row": null,
                            "grid_template_areas": null,
                            "grid_template_columns": null,
                            "grid_template_rows": null,
                            "height": null,
                            "justify_content": null,
                            "justify_items": null,
                            "left": null,
                            "margin": null,
                            "max_height": null,
                            "max_width": null,
                            "min_height": null,
                            "min_width": null,
                            "object_fit": null,
                            "object_position": null,
                            "order": null,
                            "overflow": null,
                            "overflow_x": null,
                            "overflow_y": null,
                            "padding": null,
                            "right": null,
                            "top": null,
                            "visibility": null,
                            "width": null
                        }
                    },
                    "6870714bde52491aa97733f4cec073d1": {
                        "model_module": "@jupyter-widgets/base",
                        "model_module_version": "1.2.0",
                        "model_name": "LayoutModel",
                        "state": {
                            "_model_module": "@jupyter-widgets/base",
                            "_model_module_version": "1.2.0",
                            "_model_name": "LayoutModel",
                            "_view_count": null,
                            "_view_module": "@jupyter-widgets/base",
                            "_view_module_version": "1.2.0",
                            "_view_name": "LayoutView",
                            "align_content": null,
                            "align_items": null,
                            "align_self": null,
                            "border": null,
                            "bottom": null,
                            "display": null,
                            "flex": null,
                            "flex_flow": null,
                            "grid_area": null,
                            "grid_auto_columns": null,
                            "grid_auto_flow": null,
                            "grid_auto_rows": null,
                            "grid_column": null,
                            "grid_gap": null,
                            "grid_row": null,
                            "grid_template_areas": null,
                            "grid_template_columns": null,
                            "grid_template_rows": null,
                            "height": null,
                            "justify_content": null,
                            "justify_items": null,
                            "left": null,
                            "margin": null,
                            "max_height": null,
                            "max_width": null,
                            "min_height": null,
                            "min_width": null,
                            "object_fit": null,
                            "object_position": null,
                            "order": null,
                            "overflow": null,
                            "overflow_x": null,
                            "overflow_y": null,
                            "padding": null,
                            "right": null,
                            "top": null,
                            "visibility": null,
                            "width": null
                        }
                    },
                    "6db0809ebc064ba9b691ab94d8efc666": {
                        "model_module": "@jupyter-widgets/base",
                        "model_module_version": "1.2.0",
                        "model_name": "LayoutModel",
                        "state": {
                            "_model_module": "@jupyter-widgets/base",
                            "_model_module_version": "1.2.0",
                            "_model_name": "LayoutModel",
                            "_view_count": null,
                            "_view_module": "@jupyter-widgets/base",
                            "_view_module_version": "1.2.0",
                            "_view_name": "LayoutView",
                            "align_content": null,
                            "align_items": null,
                            "align_self": null,
                            "border": null,
                            "bottom": null,
                            "display": null,
                            "flex": null,
                            "flex_flow": null,
                            "grid_area": null,
                            "grid_auto_columns": null,
                            "grid_auto_flow": null,
                            "grid_auto_rows": null,
                            "grid_column": null,
                            "grid_gap": null,
                            "grid_row": null,
                            "grid_template_areas": null,
                            "grid_template_columns": null,
                            "grid_template_rows": null,
                            "height": null,
                            "justify_content": null,
                            "justify_items": null,
                            "left": null,
                            "margin": null,
                            "max_height": null,
                            "max_width": null,
                            "min_height": null,
                            "min_width": null,
                            "object_fit": null,
                            "object_position": null,
                            "order": null,
                            "overflow": null,
                            "overflow_x": null,
                            "overflow_y": null,
                            "padding": null,
                            "right": null,
                            "top": null,
                            "visibility": null,
                            "width": null
                        }
                    },
                    "704d71c9a6c54d5190624713bc1bced6": {
                        "model_module": "@jupyter-widgets/controls",
                        "model_module_version": "1.5.0",
                        "model_name": "IntProgressModel",
                        "state": {
                            "_dom_classes": [ ],
                            "_model_module": "@jupyter-widgets/controls",
                            "_model_module_version": "1.5.0",
                            "_model_name": "IntProgressModel",
                            "_view_count": null,
                            "_view_module": "@jupyter-widgets/controls",
                            "_view_module_version": "1.5.0",
                            "_view_name": "ProgressView",
                            "bar_style": "success",
                            "description": "100.00%",
                            "description_tooltip": null,
                            "layout": "IPY_MODEL_2298fa4abf75433b91f03c09c261db96",
                            "max": 1,
                            "min": 0,
                            "orientation": "horizontal",
                            "style": "IPY_MODEL_9ba2a032c58d43a894c1ed2f8b94d36f",
                            "value": 1
                        }
                    },
                    "718c32d5b7e94b2fa8266a17baf04a77": {
                        "model_module": "@jupyter-widgets/controls",
                        "model_module_version": "1.5.0",
                        "model_name": "LabelModel",
                        "state": {
                            "_dom_classes": [ ],
                            "_model_module": "@jupyter-widgets/controls",
                            "_model_module_version": "1.5.0",
                            "_model_name": "LabelModel",
                            "_view_count": null,
                            "_view_module": "@jupyter-widgets/controls",
                            "_view_module_version": "1.5.0",
                            "_view_name": "LabelView",
                            "description": "",
                            "description_tooltip": null,
                            "layout": "IPY_MODEL_babf62efc95745ba87cf48b060875aa0",
                            "placeholder": "​",
                            "style": "IPY_MODEL_80709d56484e424b8b089721341bb4e9",
                            "value": "548907 / 548907"
                        }
                    },
                    "7264d61a0fa84264a37a2a14c9cfd884": {
                        "model_module": "@jupyter-widgets/controls",
                        "model_module_version": "1.5.0",
                        "model_name": "VBoxModel",
                        "state": {
                            "_dom_classes": [ ],
                            "_model_module": "@jupyter-widgets/controls",
                            "_model_module_version": "1.5.0",
                            "_model_name": "VBoxModel",
                            "_view_count": null,
                            "_view_module": "@jupyter-widgets/controls",
                            "_view_module_version": "1.5.0",
                            "_view_name": "VBoxView",
                            "box_style": "",
                            "children": [
                                "IPY_MODEL_727360e02e194d94b7364982b0f22168"
                            ],
                            "layout": "IPY_MODEL_c46045c3dc95450f8bc0b023aa14c747"
                        }
                    },
                    "727360e02e194d94b7364982b0f22168": {
                        "model_module": "@jupyter-widgets/controls",
                        "model_module_version": "1.5.0",
                        "model_name": "HBoxModel",
                        "state": {
                            "_dom_classes": [ ],
                            "_model_module": "@jupyter-widgets/controls",
                            "_model_module_version": "1.5.0",
                            "_model_name": "HBoxModel",
                            "_view_count": null,
                            "_view_module": "@jupyter-widgets/controls",
                            "_view_module_version": "1.5.0",
                            "_view_name": "HBoxView",
                            "box_style": "",
                            "children": [
                                "IPY_MODEL_de4e80a807d944428498dab0cba41016",
                                "IPY_MODEL_c07ecdb6921a4cdb801caf91ff3a3ad6"
                            ],
                            "layout": "IPY_MODEL_b0a8a77bd77a4510b6b2a5f312274912"
                        }
                    },
                    "78766083f213404381cb0ecaf8eae482": {
                        "model_module": "@jupyter-widgets/controls",
                        "model_module_version": "1.5.0",
                        "model_name": "ProgressStyleModel",
                        "state": {
                            "_model_module": "@jupyter-widgets/controls",
                            "_model_module_version": "1.5.0",
                            "_model_name": "ProgressStyleModel",
                            "_view_count": null,
                            "_view_module": "@jupyter-widgets/base",
                            "_view_module_version": "1.2.0",
                            "_view_name": "StyleView",
                            "bar_color": null,
                            "description_width": ""
                        }
                    },
                    "7b959f702dcb4aee9776ac2a737fb21b": {
                        "model_module": "@jupyter-widgets/controls",
                        "model_module_version": "1.5.0",
                        "model_name": "DescriptionStyleModel",
                        "state": {
                            "_model_module": "@jupyter-widgets/controls",
                            "_model_module_version": "1.5.0",
                            "_model_name": "DescriptionStyleModel",
                            "_view_count": null,
                            "_view_module": "@jupyter-widgets/base",
                            "_view_module_version": "1.2.0",
                            "_view_name": "StyleView",
                            "description_width": ""
                        }
                    },
                    "80709d56484e424b8b089721341bb4e9": {
                        "model_module": "@jupyter-widgets/controls",
                        "model_module_version": "1.5.0",
                        "model_name": "DescriptionStyleModel",
                        "state": {
                            "_model_module": "@jupyter-widgets/controls",
                            "_model_module_version": "1.5.0",
                            "_model_name": "DescriptionStyleModel",
                            "_view_count": null,
                            "_view_module": "@jupyter-widgets/base",
                            "_view_module_version": "1.2.0",
                            "_view_name": "StyleView",
                            "description_width": ""
                        }
                    },
                    "8279dc922322415a9e48d830a0d0488f": {
                        "model_module": "@jupyter-widgets/controls",
                        "model_module_version": "1.5.0",
                        "model_name": "ProgressStyleModel",
                        "state": {
                            "_model_module": "@jupyter-widgets/controls",
                            "_model_module_version": "1.5.0",
                            "_model_name": "ProgressStyleModel",
                            "_view_count": null,
                            "_view_module": "@jupyter-widgets/base",
                            "_view_module_version": "1.2.0",
                            "_view_name": "StyleView",
                            "bar_color": null,
                            "description_width": ""
                        }
                    },
                    "95391d6d90064c93ac7586e64b366c20": {
                        "model_module": "@jupyter-widgets/controls",
                        "model_module_version": "1.5.0",
                        "model_name": "HBoxModel",
                        "state": {
                            "_dom_classes": [ ],
                            "_model_module": "@jupyter-widgets/controls",
                            "_model_module_version": "1.5.0",
                            "_model_name": "HBoxModel",
                            "_view_count": null,
                            "_view_module": "@jupyter-widgets/controls",
                            "_view_module_version": "1.5.0",
                            "_view_name": "HBoxView",
                            "box_style": "",
                            "children": [
                                "IPY_MODEL_704d71c9a6c54d5190624713bc1bced6",
                                "IPY_MODEL_387a3313b36d44e8ba9216c33fad93dd"
                            ],
                            "layout": "IPY_MODEL_33956eab405b4ffeae188d9d79127fba"
                        }
                    },
                    "9a353f246bba4c17b28383e7864a6b10": {
                        "model_module": "@jupyter-widgets/base",
                        "model_module_version": "1.2.0",
                        "model_name": "LayoutModel",
                        "state": {
                            "_model_module": "@jupyter-widgets/base",
                            "_model_module_version": "1.2.0",
                            "_model_name": "LayoutModel",
                            "_view_count": null,
                            "_view_module": "@jupyter-widgets/base",
                            "_view_module_version": "1.2.0",
                            "_view_name": "LayoutView",
                            "align_content": null,
                            "align_items": null,
                            "align_self": null,
                            "border": null,
                            "bottom": null,
                            "display": null,
                            "flex": null,
                            "flex_flow": null,
                            "grid_area": null,
                            "grid_auto_columns": null,
                            "grid_auto_flow": null,
                            "grid_auto_rows": null,
                            "grid_column": null,
                            "grid_gap": null,
                            "grid_row": null,
                            "grid_template_areas": null,
                            "grid_template_columns": null,
                            "grid_template_rows": null,
                            "height": null,
                            "justify_content": null,
                            "justify_items": null,
                            "left": null,
                            "margin": null,
                            "max_height": null,
                            "max_width": null,
                            "min_height": null,
                            "min_width": null,
                            "object_fit": null,
                            "object_position": null,
                            "order": null,
                            "overflow": null,
                            "overflow_x": null,
                            "overflow_y": null,
                            "padding": null,
                            "right": null,
                            "top": null,
                            "visibility": null,
                            "width": null
                        }
                    },
                    "9ba2a032c58d43a894c1ed2f8b94d36f": {
                        "model_module": "@jupyter-widgets/controls",
                        "model_module_version": "1.5.0",
                        "model_name": "ProgressStyleModel",
                        "state": {
                            "_model_module": "@jupyter-widgets/controls",
                            "_model_module_version": "1.5.0",
                            "_model_name": "ProgressStyleModel",
                            "_view_count": null,
                            "_view_module": "@jupyter-widgets/base",
                            "_view_module_version": "1.2.0",
                            "_view_name": "StyleView",
                            "bar_color": null,
                            "description_width": ""
                        }
                    },
                    "a26a74fb61be4f25a1b94feafb9761ed": {
                        "model_module": "@jupyter-widgets/base",
                        "model_module_version": "1.2.0",
                        "model_name": "LayoutModel",
                        "state": {
                            "_model_module": "@jupyter-widgets/base",
                            "_model_module_version": "1.2.0",
                            "_model_name": "LayoutModel",
                            "_view_count": null,
                            "_view_module": "@jupyter-widgets/base",
                            "_view_module_version": "1.2.0",
                            "_view_name": "LayoutView",
                            "align_content": null,
                            "align_items": null,
                            "align_self": null,
                            "border": null,
                            "bottom": null,
                            "display": null,
                            "flex": null,
                            "flex_flow": null,
                            "grid_area": null,
                            "grid_auto_columns": null,
                            "grid_auto_flow": null,
                            "grid_auto_rows": null,
                            "grid_column": null,
                            "grid_gap": null,
                            "grid_row": null,
                            "grid_template_areas": null,
                            "grid_template_columns": null,
                            "grid_template_rows": null,
                            "height": null,
                            "justify_content": null,
                            "justify_items": null,
                            "left": null,
                            "margin": null,
                            "max_height": null,
                            "max_width": null,
                            "min_height": null,
                            "min_width": null,
                            "object_fit": null,
                            "object_position": null,
                            "order": null,
                            "overflow": null,
                            "overflow_x": null,
                            "overflow_y": null,
                            "padding": null,
                            "right": null,
                            "top": null,
                            "visibility": null,
                            "width": null
                        }
                    },
                    "adaffec4ae3b4eefac0e8638e7743e46": {
                        "model_module": "@jupyter-widgets/base",
                        "model_module_version": "1.2.0",
                        "model_name": "LayoutModel",
                        "state": {
                            "_model_module": "@jupyter-widgets/base",
                            "_model_module_version": "1.2.0",
                            "_model_name": "LayoutModel",
                            "_view_count": null,
                            "_view_module": "@jupyter-widgets/base",
                            "_view_module_version": "1.2.0",
                            "_view_name": "LayoutView",
                            "align_content": null,
                            "align_items": null,
                            "align_self": null,
                            "border": null,
                            "bottom": null,
                            "display": null,
                            "flex": null,
                            "flex_flow": null,
                            "grid_area": null,
                            "grid_auto_columns": null,
                            "grid_auto_flow": null,
                            "grid_auto_rows": null,
                            "grid_column": null,
                            "grid_gap": null,
                            "grid_row": null,
                            "grid_template_areas": null,
                            "grid_template_columns": null,
                            "grid_template_rows": null,
                            "height": null,
                            "justify_content": null,
                            "justify_items": null,
                            "left": null,
                            "margin": null,
                            "max_height": null,
                            "max_width": null,
                            "min_height": null,
                            "min_width": null,
                            "object_fit": null,
                            "object_position": null,
                            "order": null,
                            "overflow": null,
                            "overflow_x": null,
                            "overflow_y": null,
                            "padding": null,
                            "right": null,
                            "top": null,
                            "visibility": null,
                            "width": null
                        }
                    },
                    "b0a8a77bd77a4510b6b2a5f312274912": {
                        "model_module": "@jupyter-widgets/base",
                        "model_module_version": "1.2.0",
                        "model_name": "LayoutModel",
                        "state": {
                            "_model_module": "@jupyter-widgets/base",
                            "_model_module_version": "1.2.0",
                            "_model_name": "LayoutModel",
                            "_view_count": null,
                            "_view_module": "@jupyter-widgets/base",
                            "_view_module_version": "1.2.0",
                            "_view_name": "LayoutView",
                            "align_content": null,
                            "align_items": null,
                            "align_self": null,
                            "border": null,
                            "bottom": null,
                            "display": null,
                            "flex": null,
                            "flex_flow": null,
                            "grid_area": null,
                            "grid_auto_columns": null,
                            "grid_auto_flow": null,
                            "grid_auto_rows": null,
                            "grid_column": null,
                            "grid_gap": null,
                            "grid_row": null,
                            "grid_template_areas": null,
                            "grid_template_columns": null,
                            "grid_template_rows": null,
                            "height": null,
                            "justify_content": null,
                            "justify_items": null,
                            "left": null,
                            "margin": null,
                            "max_height": null,
                            "max_width": null,
                            "min_height": null,
                            "min_width": null,
                            "object_fit": null,
                            "object_position": null,
                            "order": null,
                            "overflow": null,
                            "overflow_x": null,
                            "overflow_y": null,
                            "padding": null,
                            "right": null,
                            "top": null,
                            "visibility": null,
                            "width": null
                        }
                    },
                    "b6fa6f3ee083421e9d8d19ea29df3a41": {
                        "model_module": "@jupyter-widgets/controls",
                        "model_module_version": "1.5.0",
                        "model_name": "HBoxModel",
                        "state": {
                            "_dom_classes": [ ],
                            "_model_module": "@jupyter-widgets/controls",
                            "_model_module_version": "1.5.0",
                            "_model_name": "HBoxModel",
                            "_view_count": null,
                            "_view_module": "@jupyter-widgets/controls",
                            "_view_module_version": "1.5.0",
                            "_view_name": "HBoxView",
                            "box_style": "",
                            "children": [
                                "IPY_MODEL_b80eb814ce564bd9a46e6064d6b68c75",
                                "IPY_MODEL_d9e3bf890e774839bb13a88ffa97e5e2"
                            ],
                            "layout": "IPY_MODEL_3b46dbddcd074be5892b4c8533e2810d"
                        }
                    },
                    "b80eb814ce564bd9a46e6064d6b68c75": {
                        "model_module": "@jupyter-widgets/controls",
                        "model_module_version": "1.5.0",
                        "model_name": "IntProgressModel",
                        "state": {
                            "_dom_classes": [ ],
                            "_model_module": "@jupyter-widgets/controls",
                            "_model_module_version": "1.5.0",
                            "_model_name": "IntProgressModel",
                            "_view_count": null,
                            "_view_module": "@jupyter-widgets/controls",
                            "_view_module_version": "1.5.0",
                            "_view_name": "ProgressView",
                            "bar_style": "success",
                            "description": "100.00%",
                            "description_tooltip": null,
                            "layout": "IPY_MODEL_6db0809ebc064ba9b691ab94d8efc666",
                            "max": 1,
                            "min": 0,
                            "orientation": "horizontal",
                            "style": "IPY_MODEL_c75eb3ff3ec04f83a8eda9de615d8460",
                            "value": 1
                        }
                    },
                    "b9c684ea2d4c49fdb451c1ad24aab7c5": {
                        "model_module": "@jupyter-widgets/controls",
                        "model_module_version": "1.5.0",
                        "model_name": "IntProgressModel",
                        "state": {
                            "_dom_classes": [ ],
                            "_model_module": "@jupyter-widgets/controls",
                            "_model_module_version": "1.5.0",
                            "_model_name": "IntProgressModel",
                            "_view_count": null,
                            "_view_module": "@jupyter-widgets/controls",
                            "_view_module_version": "1.5.0",
                            "_view_name": "ProgressView",
                            "bar_style": "success",
                            "description": "100.00%",
                            "description_tooltip": null,
                            "layout": "IPY_MODEL_1f6b85623a58430e97f78d45768d71c6",
                            "max": 548906,
                            "min": 0,
                            "orientation": "horizontal",
                            "style": "IPY_MODEL_2aaf489e362e450b8e138d554678650f",
                            "value": 548906
                        }
                    },
                    "babf62efc95745ba87cf48b060875aa0": {
                        "model_module": "@jupyter-widgets/base",
                        "model_module_version": "1.2.0",
                        "model_name": "LayoutModel",
                        "state": {
                            "_model_module": "@jupyter-widgets/base",
                            "_model_module_version": "1.2.0",
                            "_model_name": "LayoutModel",
                            "_view_count": null,
                            "_view_module": "@jupyter-widgets/base",
                            "_view_module_version": "1.2.0",
                            "_view_name": "LayoutView",
                            "align_content": null,
                            "align_items": null,
                            "align_self": null,
                            "border": null,
                            "bottom": null,
                            "display": null,
                            "flex": null,
                            "flex_flow": null,
                            "grid_area": null,
                            "grid_auto_columns": null,
                            "grid_auto_flow": null,
                            "grid_auto_rows": null,
                            "grid_column": null,
                            "grid_gap": null,
                            "grid_row": null,
                            "grid_template_areas": null,
                            "grid_template_columns": null,
                            "grid_template_rows": null,
                            "height": null,
                            "justify_content": null,
                            "justify_items": null,
                            "left": null,
                            "margin": null,
                            "max_height": null,
                            "max_width": null,
                            "min_height": null,
                            "min_width": null,
                            "object_fit": null,
                            "object_position": null,
                            "order": null,
                            "overflow": null,
                            "overflow_x": null,
                            "overflow_y": null,
                            "padding": null,
                            "right": null,
                            "top": null,
                            "visibility": null,
                            "width": null
                        }
                    },
                    "bd18b83585dc436b837577aefc7df438": {
                        "model_module": "@jupyter-widgets/base",
                        "model_module_version": "1.2.0",
                        "model_name": "LayoutModel",
                        "state": {
                            "_model_module": "@jupyter-widgets/base",
                            "_model_module_version": "1.2.0",
                            "_model_name": "LayoutModel",
                            "_view_count": null,
                            "_view_module": "@jupyter-widgets/base",
                            "_view_module_version": "1.2.0",
                            "_view_name": "LayoutView",
                            "align_content": null,
                            "align_items": null,
                            "align_self": null,
                            "border": null,
                            "bottom": null,
                            "display": null,
                            "flex": null,
                            "flex_flow": null,
                            "grid_area": null,
                            "grid_auto_columns": null,
                            "grid_auto_flow": null,
                            "grid_auto_rows": null,
                            "grid_column": null,
                            "grid_gap": null,
                            "grid_row": null,
                            "grid_template_areas": null,
                            "grid_template_columns": null,
                            "grid_template_rows": null,
                            "height": null,
                            "justify_content": null,
                            "justify_items": null,
                            "left": null,
                            "margin": null,
                            "max_height": null,
                            "max_width": null,
                            "min_height": null,
                            "min_width": null,
                            "object_fit": null,
                            "object_position": null,
                            "order": null,
                            "overflow": null,
                            "overflow_x": null,
                            "overflow_y": null,
                            "padding": null,
                            "right": null,
                            "top": null,
                            "visibility": null,
                            "width": null
                        }
                    },
                    "c07ecdb6921a4cdb801caf91ff3a3ad6": {
                        "model_module": "@jupyter-widgets/controls",
                        "model_module_version": "1.5.0",
                        "model_name": "LabelModel",
                        "state": {
                            "_dom_classes": [ ],
                            "_model_module": "@jupyter-widgets/controls",
                            "_model_module_version": "1.5.0",
                            "_model_name": "LabelModel",
                            "_view_count": null,
                            "_view_module": "@jupyter-widgets/controls",
                            "_view_module_version": "1.5.0",
                            "_view_name": "LabelView",
                            "description": "",
                            "description_tooltip": null,
                            "layout": "IPY_MODEL_9a353f246bba4c17b28383e7864a6b10",
                            "placeholder": "​",
                            "style": "IPY_MODEL_7b959f702dcb4aee9776ac2a737fb21b",
                            "value": "1 / 1"
                        }
                    },
                    "c413c0af3df14edebd42d6e7da2da728": {
                        "model_module": "@jupyter-widgets/controls",
                        "model_module_version": "1.5.0",
                        "model_name": "DescriptionStyleModel",
                        "state": {
                            "_model_module": "@jupyter-widgets/controls",
                            "_model_module_version": "1.5.0",
                            "_model_name": "DescriptionStyleModel",
                            "_view_count": null,
                            "_view_module": "@jupyter-widgets/base",
                            "_view_module_version": "1.2.0",
                            "_view_name": "StyleView",
                            "description_width": ""
                        }
                    },
                    "c46045c3dc95450f8bc0b023aa14c747": {
                        "model_module": "@jupyter-widgets/base",
                        "model_module_version": "1.2.0",
                        "model_name": "LayoutModel",
                        "state": {
                            "_model_module": "@jupyter-widgets/base",
                            "_model_module_version": "1.2.0",
                            "_model_name": "LayoutModel",
                            "_view_count": null,
                            "_view_module": "@jupyter-widgets/base",
                            "_view_module_version": "1.2.0",
                            "_view_name": "LayoutView",
                            "align_content": null,
                            "align_items": null,
                            "align_self": null,
                            "border": null,
                            "bottom": null,
                            "display": null,
                            "flex": null,
                            "flex_flow": null,
                            "grid_area": null,
                            "grid_auto_columns": null,
                            "grid_auto_flow": null,
                            "grid_auto_rows": null,
                            "grid_column": null,
                            "grid_gap": null,
                            "grid_row": null,
                            "grid_template_areas": null,
                            "grid_template_columns": null,
                            "grid_template_rows": null,
                            "height": null,
                            "justify_content": null,
                            "justify_items": null,
                            "left": null,
                            "margin": null,
                            "max_height": null,
                            "max_width": null,
                            "min_height": null,
                            "min_width": null,
                            "object_fit": null,
                            "object_position": null,
                            "order": null,
                            "overflow": null,
                            "overflow_x": null,
                            "overflow_y": null,
                            "padding": null,
                            "right": null,
                            "top": null,
                            "visibility": null,
                            "width": null
                        }
                    },
                    "c75eb3ff3ec04f83a8eda9de615d8460": {
                        "model_module": "@jupyter-widgets/controls",
                        "model_module_version": "1.5.0",
                        "model_name": "ProgressStyleModel",
                        "state": {
                            "_model_module": "@jupyter-widgets/controls",
                            "_model_module_version": "1.5.0",
                            "_model_name": "ProgressStyleModel",
                            "_view_count": null,
                            "_view_module": "@jupyter-widgets/base",
                            "_view_module_version": "1.2.0",
                            "_view_name": "StyleView",
                            "bar_color": null,
                            "description_width": ""
                        }
                    },
                    "d9e3bf890e774839bb13a88ffa97e5e2": {
                        "model_module": "@jupyter-widgets/controls",
                        "model_module_version": "1.5.0",
                        "model_name": "LabelModel",
                        "state": {
                            "_dom_classes": [ ],
                            "_model_module": "@jupyter-widgets/controls",
                            "_model_module_version": "1.5.0",
                            "_model_name": "LabelModel",
                            "_view_count": null,
                            "_view_module": "@jupyter-widgets/controls",
                            "_view_module_version": "1.5.0",
                            "_view_name": "LabelView",
                            "description": "",
                            "description_tooltip": null,
                            "layout": "IPY_MODEL_2ac12283137c475ea921f835912bfb3c",
                            "placeholder": "​",
                            "style": "IPY_MODEL_e0ad44da9e9046ae8298757d4adaacfb",
                            "value": "1 / 1"
                        }
                    },
                    "dde40dd4ab47453397385413bdd939e7": {
                        "model_module": "@jupyter-widgets/controls",
                        "model_module_version": "1.5.0",
                        "model_name": "VBoxModel",
                        "state": {
                            "_dom_classes": [ ],
                            "_model_module": "@jupyter-widgets/controls",
                            "_model_module_version": "1.5.0",
                            "_model_name": "VBoxModel",
                            "_view_count": null,
                            "_view_module": "@jupyter-widgets/controls",
                            "_view_module_version": "1.5.0",
                            "_view_name": "VBoxView",
                            "box_style": "",
                            "children": [
                                "IPY_MODEL_b6fa6f3ee083421e9d8d19ea29df3a41"
                            ],
                            "layout": "IPY_MODEL_6870714bde52491aa97733f4cec073d1"
                        }
                    },
                    "de4e80a807d944428498dab0cba41016": {
                        "model_module": "@jupyter-widgets/controls",
                        "model_module_version": "1.5.0",
                        "model_name": "IntProgressModel",
                        "state": {
                            "_dom_classes": [ ],
                            "_model_module": "@jupyter-widgets/controls",
                            "_model_module_version": "1.5.0",
                            "_model_name": "IntProgressModel",
                            "_view_count": null,
                            "_view_module": "@jupyter-widgets/controls",
                            "_view_module_version": "1.5.0",
                            "_view_name": "ProgressView",
                            "bar_style": "success",
                            "description": "100.00%",
                            "description_tooltip": null,
                            "layout": "IPY_MODEL_adaffec4ae3b4eefac0e8638e7743e46",
                            "max": 1,
                            "min": 0,
                            "orientation": "horizontal",
                            "style": "IPY_MODEL_8279dc922322415a9e48d830a0d0488f",
                            "value": 1
                        }
                    },
                    "e0ad44da9e9046ae8298757d4adaacfb": {
                        "model_module": "@jupyter-widgets/controls",
                        "model_module_version": "1.5.0",
                        "model_name": "DescriptionStyleModel",
                        "state": {
                            "_model_module": "@jupyter-widgets/controls",
                            "_model_module_version": "1.5.0",
                            "_model_name": "DescriptionStyleModel",
                            "_view_count": null,
                            "_view_module": "@jupyter-widgets/base",
                            "_view_module_version": "1.2.0",
                            "_view_name": "StyleView",
                            "description_width": ""
                        }
                    },
                    "e418e4637dba483485664c7db6758a7b": {
                        "model_module": "@jupyter-widgets/base",
                        "model_module_version": "1.2.0",
                        "model_name": "LayoutModel",
                        "state": {
                            "_model_module": "@jupyter-widgets/base",
                            "_model_module_version": "1.2.0",
                            "_model_name": "LayoutModel",
                            "_view_count": null,
                            "_view_module": "@jupyter-widgets/base",
                            "_view_module_version": "1.2.0",
                            "_view_name": "LayoutView",
                            "align_content": null,
                            "align_items": null,
                            "align_self": null,
                            "border": null,
                            "bottom": null,
                            "display": null,
                            "flex": null,
                            "flex_flow": null,
                            "grid_area": null,
                            "grid_auto_columns": null,
                            "grid_auto_flow": null,
                            "grid_auto_rows": null,
                            "grid_column": null,
                            "grid_gap": null,
                            "grid_row": null,
                            "grid_template_areas": null,
                            "grid_template_columns": null,
                            "grid_template_rows": null,
                            "height": null,
                            "justify_content": null,
                            "justify_items": null,
                            "left": null,
                            "margin": null,
                            "max_height": null,
                            "max_width": null,
                            "min_height": null,
                            "min_width": null,
                            "object_fit": null,
                            "object_position": null,
                            "order": null,
                            "overflow": null,
                            "overflow_x": null,
                            "overflow_y": null,
                            "padding": null,
                            "right": null,
                            "top": null,
                            "visibility": null,
                            "width": null
                        }
                    },
                    "e57a0d732dbc4447a32d33ef1ca20ed5": {
                        "model_module": "@jupyter-widgets/controls",
                        "model_module_version": "1.5.0",
                        "model_name": "IntProgressModel",
                        "state": {
                            "_dom_classes": [ ],
                            "_model_module": "@jupyter-widgets/controls",
                            "_model_module_version": "1.5.0",
                            "_model_name": "IntProgressModel",
                            "_view_count": null,
                            "_view_module": "@jupyter-widgets/controls",
                            "_view_module_version": "1.5.0",
                            "_view_name": "ProgressView",
                            "bar_style": "success",
                            "description": "100.00%",
                            "description_tooltip": null,
                            "layout": "IPY_MODEL_e418e4637dba483485664c7db6758a7b",
                            "max": 548907,
                            "min": 0,
                            "orientation": "horizontal",
                            "style": "IPY_MODEL_78766083f213404381cb0ecaf8eae482",
                            "value": 548907
                        }
                    },
                    "f988f212743848bcbfc2aaf69b6cfa20": {
                        "model_module": "@jupyter-widgets/controls",
                        "model_module_version": "1.5.0",
                        "model_name": "HBoxModel",
                        "state": {
                            "_dom_classes": [ ],
                            "_model_module": "@jupyter-widgets/controls",
                            "_model_module_version": "1.5.0",
                            "_model_name": "HBoxModel",
                            "_view_count": null,
                            "_view_module": "@jupyter-widgets/controls",
                            "_view_module_version": "1.5.0",
                            "_view_name": "HBoxView",
                            "box_style": "",
                            "children": [
                                "IPY_MODEL_e57a0d732dbc4447a32d33ef1ca20ed5",
                                "IPY_MODEL_718c32d5b7e94b2fa8266a17baf04a77"
                            ],
                            "layout": "IPY_MODEL_31aa7c64da2245d99d9c44ad862c0fc0"
                        }
                    }
                },
                "version_major": 2,
                "version_minor": 0
            }
        }
    },
    "nbformat_minor": 5,
    "nbformat": 4,
    "cells": [
        {
            "cell_type": "code",
            "source": "# This Python 3 environment comes with many helpful analytics libraries installed
# It is defined by the kaggle/python Docker image: https://github.com/kaggle/docker-python
# For example, here's several helpful packages to load

import numpy as np # linear algebra
import pandas as pd # data processing, CSV file I/O (e.g. pd.read_csv)
import torch
# Input data files are available in the read-only \"../input/\" directory
# For example, running this (by clicking run or pressing Shift+Enter) will list all files under the input directory

import os

device = torch.device(\"cuda:0\" if torch.cuda.is_available() else \"cpu\")

!pip install pandarallel
from pandarallel import pandarallel as pl
pl.initialize(progress_bar=True, verbose=0)

# 設定使用環境
environment = 'kaggle'
#environment = 'colab'
#environment = 'client'

df_games = pd.DataFrame()
df_pffScouting = pd.DataFrame()
df_plays = pd.DataFrame()
df_players = pd.DataFrame()
df_tracking = pd.DataFrame()",
            "metadata": {
                "_cell_guid": "7fdd4934-27b4-4f94-b27e-3562bbadebd5",
                "_uuid": "fabcf2c9-e1b1-461f-a2cf-3e5c22e39e25",
                "collapsed": false,
                "execution": {
                    "iopub.execute_input": "2022-12-24T17:50:48.590104Z",
                    "iopub.status.busy": "2022-12-24T17:50:48.589516Z",
                    "iopub.status.idle": "2022-12-24T17:50:48.605605Z",
                    "shell.execute_reply": "2022-12-24T17:50:48.604317Z"
                },
                "jupyter": {
                    "outputs_hidden": false
                },
                "papermill": {
                    "duration": 0.029004,
                    "end_time": "2022-12-24T17:50:48.608645",
                    "exception": false,
                    "start_time": "2022-12-24T17:50:48.579641",
                    "status": "completed"
                },
                "tags": [ ]
            },
            "execution_count": 1,
            "outputs": [
                {
                    "name": "stdout",
                    "output_type": "stream",
                    "text": "/kaggle/input/nfl-big-data-bowl-2023/players.csv

/kaggle/input/nfl-big-data-bowl-2023/week6.csv

/kaggle/input/nfl-big-data-bowl-2023/week2.csv

/kaggle/input/nfl-big-data-bowl-2023/pffScoutingData.csv

/kaggle/input/nfl-big-data-bowl-2023/week3.csv

/kaggle/input/nfl-big-data-bowl-2023/week8.csv

/kaggle/input/nfl-big-data-bowl-2023/games.csv

/kaggle/input/nfl-big-data-bowl-2023/week5.csv

/kaggle/input/nfl-big-data-bowl-2023/week7.csv

/kaggle/input/nfl-big-data-bowl-2023/week1.csv

/kaggle/input/nfl-big-data-bowl-2023/week4.csv

/kaggle/input/nfl-big-data-bowl-2023/plays.csv
"
                }
            ]
        },
        {
            "cell_type": "markdown",
            "source": "# Loading the example data",
            "metadata": {
                "_cell_guid": "f184a5e8-ab89-440e-9947-0246b7d6bd6b",
                "_uuid": "8631b255-5e16-4e05-92cb-a0d395d652d3",
                "papermill": {
                    "duration": 0.006341,
                    "end_time": "2022-12-24T17:51:02.255367",
                    "exception": false,
                    "start_time": "2022-12-24T17:51:02.249026",
                    "status": "completed"
                },
                "tags": [ ]
            }
        },
        {
            "cell_type": "code",
            "source": "if (environment == 'kaggle'):
    for dirname, _, filenames in os.walk('/kaggle/input'):
        for filename in filenames:
            print(os.path.join(dirname, filename))
            if 'week5' in filename:
                weeks = os.path.join(dirname, filename)
            if 'players' in filename:
                players = os.path.join(dirname, filename)
            if 'pffScoutingData' in filename:
                pffScoutingData = os.path.join(dirname, filename)
            if 'plays' in filename:
                plays = os.path.join(dirname, filename)
# You can write up to 20GB to the current directory (/kaggle/working/) that gets preserved as output when you create a version using \"Save & Run All\"
# You can also write temporary files to /kaggle/temp/, but they won't be saved outside of the current session

    df_pffScouting = pd.read_csv(pffScoutingData)
    df_plays = pd.read_csv(plays)
    df_players = pd.read_csv(players)
    df_tracking =  pd.read_csv(weeks)

elif(environment == 'colab') :
        raise NotImplementedError

elif(environment == 'client') :
    path = '../data/'

    df_games = pd.read_csv(path + 'games.csv')
    df_plays = pd.read_csv(path + 'plays.csv')
    df_players = pd.read_csv(path +'players.csv')
    df_pffScouting = pd.read_csv(path +'pffScoutingData.csv')


    for i in range(1,9,1):
        buffer = pd.read_csv(path + 'week' + str(i) + '.csv')
        df_tracking = pd.concat([df_tracking,buffer])
        df_tracking.append(buffer, ignore_index=True)
else:
    raise NotImplementedError


if (df_pffScouting.empty | df_plays.empty | df_players.empty | df_tracking.empty):
    raise Exception(\"檔案未讀取\")",
            "metadata": {
                "_cell_guid": "447c0e33-2d96-4621-a07a-e89370200e38",
                "_uuid": "9d8f101b-25e1-4083-bfd4-da483b755a98",
                "collapsed": false,
                "execution": {
                    "iopub.execute_input": "2022-12-24T17:51:02.271915Z",
                    "iopub.status.busy": "2022-12-24T17:51:02.270838Z",
                    "iopub.status.idle": "2022-12-24T17:51:02.773291Z",
                    "shell.execute_reply": "2022-12-24T17:51:02.772091Z"
                },
                "jupyter": {
                    "outputs_hidden": false
                },
                "papermill": {
                    "duration": 0.514414,
                    "end_time": "2022-12-24T17:51:02.776546",
                    "exception": false,
                    "start_time": "2022-12-24T17:51:02.262132",
                    "status": "completed"
                },
                "tags": [ ]
            },
            "execution_count": 3,
            "outputs": [
                {
                    "execution_count": 3,
                    "output_type": "execute_result",
                    "data": {
                        "text/html": [
                            "<div>
",
                            "<style scoped>
",
                            "    .dataframe tbody tr th:only-of-type {
",
                            "        vertical-align: middle;
",
                            "    }
",
                            "
",
                            "    .dataframe tbody tr th {
",
                            "        vertical-align: top;
",
                            "    }
",
                            "
",
                            "    .dataframe thead th {
",
                            "        text-align: right;
",
                            "    }
",
                            "</style>
",
                            "<table border=\"1\" class=\"dataframe\">
",
                            "  <thead>
",
                            "    <tr style=\"text-align: right;\">
",
                            "      <th></th>
",
                            "      <th>gameId</th>
",
                            "      <th>playId</th>
",
                            "      <th>nflId</th>
",
                            "      <th>pff_role</th>
",
                            "      <th>pff_positionLinedUp</th>
",
                            "      <th>pff_hit</th>
",
                            "      <th>pff_hurry</th>
",
                            "      <th>pff_sack</th>
",
                            "      <th>pff_beatenByDefender</th>
",
                            "      <th>pff_hitAllowed</th>
",
                            "      <th>pff_hurryAllowed</th>
",
                            "      <th>pff_sackAllowed</th>
",
                            "      <th>pff_nflIdBlockedPlayer</th>
",
                            "      <th>pff_blockType</th>
",
                            "      <th>pff_backFieldBlock</th>
",
                            "    </tr>
",
                            "  </thead>
",
                            "  <tbody>
",
                            "    <tr>
",
                            "      <th>0</th>
",
                            "      <td>2021090900</td>
",
                            "      <td>97</td>
",
                            "      <td>25511</td>
",
                            "      <td>Pass</td>
",
                            "      <td>QB</td>
",
                            "      <td>NaN</td>
",
                            "      <td>NaN</td>
",
                            "      <td>NaN</td>
",
                            "      <td>NaN</td>
",
                            "      <td>NaN</td>
",
                            "      <td>NaN</td>
",
                            "      <td>NaN</td>
",
                            "      <td>NaN</td>
",
                            "      <td>NaN</td>
",
                            "      <td>NaN</td>
",
                            "    </tr>
",
                            "    <tr>
",
                            "      <th>1</th>
",
                            "      <td>2021090900</td>
",
                            "      <td>97</td>
",
                            "      <td>35481</td>
",
                            "      <td>Pass Route</td>
",
                            "      <td>TE-L</td>
",
                            "      <td>NaN</td>
",
                            "      <td>NaN</td>
",
                            "      <td>NaN</td>
",
                            "      <td>NaN</td>
",
                            "      <td>NaN</td>
",
                            "      <td>NaN</td>
",
                            "      <td>NaN</td>
",
                            "      <td>NaN</td>
",
                            "      <td>NaN</td>
",
                            "      <td>NaN</td>
",
                            "    </tr>
",
                            "    <tr>
",
                            "      <th>2</th>
",
                            "      <td>2021090900</td>
",
                            "      <td>97</td>
",
                            "      <td>35634</td>
",
                            "      <td>Pass Route</td>
",
                            "      <td>LWR</td>
",
                            "      <td>NaN</td>
",
                            "      <td>NaN</td>
",
                            "      <td>NaN</td>
",
                            "      <td>NaN</td>
",
                            "      <td>NaN</td>
",
                            "      <td>NaN</td>
",
                            "      <td>NaN</td>
",
                            "      <td>NaN</td>
",
                            "      <td>NaN</td>
",
                            "      <td>NaN</td>
",
                            "    </tr>
",
                            "    <tr>
",
                            "      <th>3</th>
",
                            "      <td>2021090900</td>
",
                            "      <td>97</td>
",
                            "      <td>39985</td>
",
                            "      <td>Pass Route</td>
",
                            "      <td>HB-R</td>
",
                            "      <td>NaN</td>
",
                            "      <td>NaN</td>
",
                            "      <td>NaN</td>
",
                            "      <td>NaN</td>
",
                            "      <td>NaN</td>
",
                            "      <td>NaN</td>
",
                            "      <td>NaN</td>
",
                            "      <td>NaN</td>
",
                            "      <td>NaN</td>
",
                            "      <td>NaN</td>
",
                            "    </tr>
",
                            "    <tr>
",
                            "      <th>4</th>
",
                            "      <td>2021090900</td>
",
                            "      <td>97</td>
",
                            "      <td>40151</td>
",
                            "      <td>Pass Block</td>
",
                            "      <td>C</td>
",
                            "      <td>NaN</td>
",
                            "      <td>NaN</td>
",
                            "      <td>NaN</td>
",
                            "      <td>0.0</td>
",
                            "      <td>0.0</td>
",
                            "      <td>0.0</td>
",
                            "      <td>0.0</td>
",
                            "      <td>44955.0</td>
",
                            "      <td>SW</td>
",
                            "      <td>0.0</td>
",
                            "    </tr>
",
                            "  </tbody>
",
                            "</table>
",
                            "</div>"
                        ],
                        "text/plain": [
                            "       gameId  playId  nflId    pff_role pff_positionLinedUp  pff_hit  \\
",
                            "0  2021090900      97  25511        Pass                  QB      NaN
",
                            "1  2021090900      97  35481  Pass Route                TE-L      NaN
",
                            "2  2021090900      97  35634  Pass Route                 LWR      NaN
",
                            "3  2021090900      97  39985  Pass Route                HB-R      NaN
",
                            "4  2021090900      97  40151  Pass Block                   C      NaN
",
                            "
",
                            "   pff_hurry  pff_sack  pff_beatenByDefender  pff_hitAllowed  \\
",
                            "0        NaN       NaN                   NaN             NaN
",
                            "1        NaN       NaN                   NaN             NaN
",
                            "2        NaN       NaN                   NaN             NaN
",
                            "3        NaN       NaN                   NaN             NaN
",
                            "4        NaN       NaN                   0.0             0.0
",
                            "
",
                            "   pff_hurryAllowed  pff_sackAllowed  pff_nflIdBlockedPlayer pff_blockType  \\
",
                            "0               NaN              NaN                     NaN           NaN
",
                            "1               NaN              NaN                     NaN           NaN
",
                            "2               NaN              NaN                     NaN           NaN
",
                            "3               NaN              NaN                     NaN           NaN
",
                            "4               0.0              0.0                 44955.0            SW
",
                            "
",
                            "   pff_backFieldBlock
",
                            "0                 NaN
",
                            "1                 NaN
",
                            "2                 NaN
",
                            "3                 NaN
",
                            "4                 0.0  "
                        ]
                    },
                    "metadata": { }
                }
            ]
        },
        {
            "cell_type": "code",
            "source": "df_gp = df_tracking[['gameId', 'playId']].drop_duplicates()
df_gp.reset_index(drop=True, inplace=True)
df_gp = df_gp[0:1]",
            "metadata": {
                "_cell_guid": "c94c7ede-b3fe-41f5-bb8d-bd89b9169d92",
                "_uuid": "da15f93f-f4fa-4981-9130-12b784e93c7d",
                "collapsed": false,
                "execution": {
                    "iopub.execute_input": "2022-12-24T17:51:06.878807Z",
                    "iopub.status.busy": "2022-12-24T17:51:06.877885Z",
                    "iopub.status.idle": "2022-12-24T17:51:06.950927Z",
                    "shell.execute_reply": "2022-12-24T17:51:06.949863Z"
                },
                "jupyter": {
                    "outputs_hidden": false
                },
                "papermill": {
                    "duration": 0.087282,
                    "end_time": "2022-12-24T17:51:06.954001",
                    "exception": false,
                    "start_time": "2022-12-24T17:51:06.866719",
                    "status": "completed"
                },
                "tags": [ ]
            },
            "execution_count": 7,
            "outputs": [ ]
        },
        {
            "cell_type": "code",
            "source": "df_gp",
            "metadata": {
                "_cell_guid": "f62e7124-06b6-451d-8f20-5fc144f8b67b",
                "_uuid": "958e1b45-65b8-417a-ba9c-15f9f95d5d39",
                "collapsed": false,
                "execution": {
                    "iopub.execute_input": "2022-12-24T17:51:06.972283Z",
                    "iopub.status.busy": "2022-12-24T17:51:06.971740Z",
                    "iopub.status.idle": "2022-12-24T17:51:06.982613Z",
                    "shell.execute_reply": "2022-12-24T17:51:06.981440Z"
                },
                "jupyter": {
                    "outputs_hidden": false
                },
                "papermill": {
                    "duration": 0.023163,
                    "end_time": "2022-12-24T17:51:06.985151",
                    "exception": false,
                    "start_time": "2022-12-24T17:51:06.961988",
                    "status": "completed"
                },
                "tags": [ ]
            },
            "execution_count": 8,
            "outputs": [
                {
                    "execution_count": 8,
                    "output_type": "execute_result",
                    "data": {
                        "text/html": [
                            "<div>
",
                            "<style scoped>
",
                            "    .dataframe tbody tr th:only-of-type {
",
                            "        vertical-align: middle;
",
                            "    }
",
                            "
",
                            "    .dataframe tbody tr th {
",
                            "        vertical-align: top;
",
                            "    }
",
                            "
",
                            "    .dataframe thead th {
",
                            "        text-align: right;
",
                            "    }
",
                            "</style>
",
                            "<table border=\"1\" class=\"dataframe\">
",
                            "  <thead>
",
                            "    <tr style=\"text-align: right;\">
",
                            "      <th></th>
",
                            "      <th>gameId</th>
",
                            "      <th>playId</th>
",
                            "    </tr>
",
                            "  </thead>
",
                            "  <tbody>
",
                            "    <tr>
",
                            "      <th>0</th>
",
                            "      <td>2021100700</td>
",
                            "      <td>95</td>
",
                            "    </tr>
",
                            "  </tbody>
",
                            "</table>
",
                            "</div>"
                        ],
                        "text/plain": [
                            "       gameId  playId
",
                            "0  2021100700      95"
                        ]
                    },
                    "metadata": { }
                }
            ]
        },
        {
            "cell_type": "markdown",
            "source": "# PreProcess Data",
            "metadata": {
                "_cell_guid": "0f0b1ace-6cda-4415-a316-097c3e2fbe08",
                "_uuid": "a7bc058a-8e10-4bcc-a660-16faa957d9ee",
                "papermill": {
                    "duration": 0.007553,
                    "end_time": "2022-12-24T17:51:07.000957",
                    "exception": false,
                    "start_time": "2022-12-24T17:51:06.993404",
                    "status": "completed"
                },
                "tags": [ ]
            }
        },
        {
            "cell_type": "code",
            "source": "def Add_playerData_To_TrackingData(row ,playerDf):
    #apply to tracking data
    playerid = row['nflId']
    player = playerDf.loc[(playerDf['nflId'] == playerid)]
    #print(f'playerid :{playerid}')
    #print(f'player :{player}')
    try:
        nflId_displayName      = player.displayName.values[0]
        nflId_officialPosition = player.officialPosition.values[0]
        nflId_height           = player.height.values[0]
        nflId_weight           = player.weight.values[0]
    except:
        nflId_displayName=''
        nflId_officialPosition=''
        nflId_height=''
        nflId_weight=''

    row['nflId_displayName']      = nflId_displayName
    row['nflId_officialPosition'] = nflId_officialPosition
    row['nflId_height']           = nflId_height
    row['nflId_weight']           = nflId_weight
    return row
# Collect a record of the number of players in each position in every play.
# This will be used later to determine the maxiumum possible number of players
# for each position, which in turn determines how many features are needed
# to be collected (or zero-padded) at every position.
def get_position_counts(row,trackingDf):
    expr = (trackingDf['gameId'] == row['gameId']) & (trackingDf['playId'] == row['playId'])
    df = trackingDf.loc[expr]
    # 每frame參與play的位置數量應該相同
    # 在play中，所以只統計第一frame的位置數。
    vc = df.loc[df['frameId'] == 1, 'nflId_officialPosition'].value_counts()
    return pd.DataFrame(np.array([vc.values]), columns=vc.keys())",
            "metadata": {
                "_cell_guid": "0b71bf7d-b7bc-4f36-b363-91991ffe86f7",
                "_uuid": "5d8bacb3-90c1-456a-ab88-58f2b630e894",
                "collapsed": false,
                "execution": {
                    "iopub.execute_input": "2022-12-24T17:51:07.019202Z",
                    "iopub.status.busy": "2022-12-24T17:51:07.018542Z",
                    "iopub.status.idle": "2022-12-24T17:51:07.031584Z",
                    "shell.execute_reply": "2022-12-24T17:51:07.030280Z"
                },
                "jupyter": {
                    "outputs_hidden": false
                },
                "papermill": {
                    "duration": 0.025406,
                    "end_time": "2022-12-24T17:51:07.034388",
                    "exception": false,
                    "start_time": "2022-12-24T17:51:07.008982",
                    "status": "completed"
                },
                "tags": [ ]
            },
            "execution_count": 9,
            "outputs": [ ]
        },
        {
            "cell_type": "code",
            "source": "#把球員data塞進track data
player = df_tracking.parallel_apply(Add_playerData_To_TrackingData , axis=1,playerDf = df_players )",
            "metadata": {
                "_cell_guid": "938afd1a-887e-4b90-94aa-a34deeda5e53",
                "_uuid": "570e0e7b-2a17-4406-b684-6b3f2ba43a86",
                "collapsed": false,
                "execution": {
                    "iopub.execute_input": "2022-12-24T17:51:07.053399Z",
                    "iopub.status.busy": "2022-12-24T17:51:07.052922Z",
                    "iopub.status.idle": "2022-12-24T18:19:40.440023Z",
                    "shell.execute_reply": "2022-12-24T18:19:40.438520Z"
                },
                "jupyter": {
                    "outputs_hidden": false
                },
                "papermill": {
                    "duration": 1713.399792,
                    "end_time": "2022-12-24T18:19:40.442751",
                    "exception": false,
                    "start_time": "2022-12-24T17:51:07.042959",
                    "status": "completed"
                },
                "tags": [ ]
            },
            "execution_count": 10,
            "outputs": [
                {
                    "output_type": "display_data",
                    "data": {
                        "application/vnd.jupyter.widget-view+json": {
                            "model_id": "00de0ebdebf44c619e1c1269ab3aa738",
                            "version_major": 2,
                            "version_minor": 0
                        },
                        "text/plain": [
                            "VBox(children=(HBox(children=(IntProgress(value=0, description='0.00%', max=548907), Label(value='0 / 548907')…"
                        ]
                    },
                    "metadata": { }
                }
            ]
        },
        {
            "cell_type": "code",
            "source": "df_tracking = player",
            "metadata": {
                "_cell_guid": "8980a1b4-30f1-43be-bdd7-c989d7f78584",
                "_uuid": "eb62aba6-fbab-4ed9-808c-793b873e5898",
                "collapsed": false,
                "execution": {
                    "iopub.execute_input": "2022-12-24T18:19:40.461255Z",
                    "iopub.status.busy": "2022-12-24T18:19:40.460828Z",
                    "iopub.status.idle": "2022-12-24T18:19:40.465875Z",
                    "shell.execute_reply": "2022-12-24T18:19:40.464835Z"
                },
                "jupyter": {
                    "outputs_hidden": false
                },
                "papermill": {
                    "duration": 0.017068,
                    "end_time": "2022-12-24T18:19:40.468101",
                    "exception": false,
                    "start_time": "2022-12-24T18:19:40.451033",
                    "status": "completed"
                },
                "tags": [ ]
            },
            "execution_count": 11,
            "outputs": [ ]
        },
        {
            "cell_type": "code",
            "source": "#統計每個position數量
pos_counts = df_gp.parallel_apply(get_position_counts, axis=1 , trackingDf = df_tracking)
pos_counts_max = pd.concat([df for df in pos_counts]).max().astype(int)
del pos_counts  # Mark temp object for deletion to free memory",
            "metadata": {
                "_cell_guid": "ba853733-2436-42dc-8226-7140b856607f",
                "_uuid": "8b7291a9-eff6-4a4c-8ee0-881e979d76c5",
                "collapsed": false,
                "execution": {
                    "iopub.execute_input": "2022-12-24T18:19:40.486079Z",
                    "iopub.status.busy": "2022-12-24T18:19:40.485695Z",
                    "iopub.status.idle": "2022-12-24T18:19:42.518808Z",
                    "shell.execute_reply": "2022-12-24T18:19:42.517074Z"
                },
                "jupyter": {
                    "outputs_hidden": false
                },
                "papermill": {
                    "duration": 2.045989,
                    "end_time": "2022-12-24T18:19:42.522439",
                    "exception": false,
                    "start_time": "2022-12-24T18:19:40.476450",
                    "status": "completed"
                },
                "tags": [ ]
            },
            "execution_count": 12,
            "outputs": [
                {
                    "output_type": "display_data",
                    "data": {
                        "application/vnd.jupyter.widget-view+json": {
                            "model_id": "7264d61a0fa84264a37a2a14c9cfd884",
                            "version_major": 2,
                            "version_minor": 0
                        },
                        "text/plain": [
                            "VBox(children=(HBox(children=(IntProgress(value=0, description='0.00%', max=1), Label(value='0 / 1'))),))"
                        ]
                    },
                    "metadata": { }
                },
                {
                    "execution_count": 12,
                    "output_type": "execute_result",
                    "data": {
                        "text/plain": [
                            "WR    3
",
                            "T     2
",
                            "DE    2
",
                            "FS    2
",
                            "CB    2
",
                            "dtype: int64"
                        ]
                    },
                    "metadata": { }
                }
            ]
        },
        {
            "cell_type": "code",
            "source": "pos_counts_max.keys()",
            "metadata": {
                "_cell_guid": "1dec020d-9448-45fd-a88b-57ce39aaecc2",
                "_uuid": "11d4b700-50f2-4efc-9f14-f747a46d4bb8",
                "collapsed": false,
                "execution": {
                    "iopub.execute_input": "2022-12-24T18:19:42.549917Z",
                    "iopub.status.busy": "2022-12-24T18:19:42.549459Z",
                    "iopub.status.idle": "2022-12-24T18:19:42.557183Z",
                    "shell.execute_reply": "2022-12-24T18:19:42.556051Z"
                },
                "jupyter": {
                    "outputs_hidden": false
                },
                "papermill": {
                    "duration": 0.019291,
                    "end_time": "2022-12-24T18:19:42.559225",
                    "exception": false,
                    "start_time": "2022-12-24T18:19:42.539934",
                    "status": "completed"
                },
                "tags": [ ]
            },
            "execution_count": 13,
            "outputs": [
                {
                    "execution_count": 13,
                    "output_type": "execute_result",
                    "data": {
                        "text/plain": [
                            "Index(['WR', 'T', 'DE', 'FS', 'CB', 'G', 'QB', 'DT', 'MLB', 'TE', 'SS', 'C',
",
                            "       'NT', 'RB', 'OLB', ''],
",
                            "      dtype='object')"
                        ]
                    },
                    "metadata": { }
                }
            ]
        },
        {
            "cell_type": "code",
            "source": "filter = (df_tracking['gameId'] == 2021100700) &(df_tracking['playId'] == 95)\\
         &(df_tracking['frameId'] == 1) & (df_tracking['nflId_officialPosition'] == 'T')

df_tracking[filter]",
            "metadata": {
                "_cell_guid": "4deba451-a41d-49cf-812f-c28d7579b1b9",
                "_uuid": "e48f2423-d4c4-445b-bc5b-9bfc47561d52",
                "collapsed": false,
                "execution": {
                    "iopub.execute_input": "2022-12-24T18:19:42.578040Z",
                    "iopub.status.busy": "2022-12-24T18:19:42.576908Z",
                    "iopub.status.idle": "2022-12-24T18:19:42.682144Z",
                    "shell.execute_reply": "2022-12-24T18:19:42.681371Z"
                },
                "jupyter": {
                    "outputs_hidden": false
                },
                "papermill": {
                    "duration": 0.117171,
                    "end_time": "2022-12-24T18:19:42.684599",
                    "exception": false,
                    "start_time": "2022-12-24T18:19:42.567428",
                    "status": "completed"
                },
                "tags": [ ]
            },
            "execution_count": 14,
            "outputs": [
                {
                    "execution_count": 14,
                    "output_type": "execute_result",
                    "data": {
                        "text/html": [
                            "<div>
",
                            "<style scoped>
",
                            "    .dataframe tbody tr th:only-of-type {
",
                            "        vertical-align: middle;
",
                            "    }
",
                            "
",
                            "    .dataframe tbody tr th {
",
                            "        vertical-align: top;
",
                            "    }
",
                            "
",
                            "    .dataframe thead th {
",
                            "        text-align: right;
",
                            "    }
",
                            "</style>
",
                            "<table border=\"1\" class=\"dataframe\">
",
                            "  <thead>
",
                            "    <tr style=\"text-align: right;\">
",
                            "      <th></th>
",
                            "      <th>gameId</th>
",
                            "      <th>playId</th>
",
                            "      <th>nflId</th>
",
                            "      <th>frameId</th>
",
                            "      <th>time</th>
",
                            "      <th>jerseyNumber</th>
",
                            "      <th>team</th>
",
                            "      <th>playDirection</th>
",
                            "      <th>x</th>
",
                            "      <th>y</th>
",
                            "      <th>s</th>
",
                            "      <th>a</th>
",
                            "      <th>dis</th>
",
                            "      <th>o</th>
",
                            "      <th>dir</th>
",
                            "      <th>event</th>
",
                            "      <th>nflId_displayName</th>
",
                            "      <th>nflId_officialPosition</th>
",
                            "      <th>nflId_height</th>
",
                            "      <th>nflId_weight</th>
",
                            "    </tr>
",
                            "  </thead>
",
                            "  <tbody>
",
                            "    <tr>
",
                            "      <th>0</th>
",
                            "      <td>2021100700</td>
",
                            "      <td>95</td>
",
                            "      <td>30869.0</td>
",
                            "      <td>1</td>
",
                            "      <td>2021-10-08T00:23:33.900</td>
",
                            "      <td>77.0</td>
",
                            "      <td>LA</td>
",
                            "      <td>right</td>
",
                            "      <td>22.93</td>
",
                            "      <td>33.04</td>
",
                            "      <td>0.02</td>
",
                            "      <td>0.02</td>
",
                            "      <td>0.00</td>
",
                            "      <td>102.26</td>
",
                            "      <td>129.51</td>
",
                            "      <td>None</td>
",
                            "      <td>Andrew Whitworth</td>
",
                            "      <td>T</td>
",
                            "      <td>6-7</td>
",
                            "      <td>330</td>
",
                            "    </tr>
",
                            "    <tr>
",
                            "      <th>282</th>
",
                            "      <td>2021100700</td>
",
                            "      <td>95</td>
",
                            "      <td>42400.0</td>
",
                            "      <td>1</td>
",
                            "      <td>2021-10-08T00:23:33.900</td>
",
                            "      <td>79.0</td>
",
                            "      <td>LA</td>
",
                            "      <td>right</td>
",
                            "      <td>23.26</td>
",
                            "      <td>26.67</td>
",
                            "      <td>0.01</td>
",
                            "      <td>0.01</td>
",
                            "      <td>0.01</td>
",
                            "      <td>103.56</td>
",
                            "      <td>5.00</td>
",
                            "      <td>None</td>
",
                            "      <td>Rob Havenstein</td>
",
                            "      <td>T</td>
",
                            "      <td>6-8</td>
",
                            "      <td>328</td>
",
                            "    </tr>
",
                            "  </tbody>
",
                            "</table>
",
                            "</div>"
                        ],
                        "text/plain": [
                            "         gameId  playId    nflId  frameId                     time  \\
",
                            "0    2021100700      95  30869.0        1  2021-10-08T00:23:33.900
",
                            "282  2021100700      95  42400.0        1  2021-10-08T00:23:33.900
",
                            "
",
                            "     jerseyNumber team playDirection      x      y     s     a   dis       o  \\
",
                            "0            77.0   LA         right  22.93  33.04  0.02  0.02  0.00  102.26
",
                            "282          79.0   LA         right  23.26  26.67  0.01  0.01  0.01  103.56
",
                            "
",
                            "        dir event nflId_displayName nflId_officialPosition nflId_height  \\
",
                            "0    129.51  None  Andrew Whitworth                      T          6-7
",
                            "282    5.00  None    Rob Havenstein                      T          6-8
",
                            "
",
                            "    nflId_weight
",
                            "0            330
",
                            "282          328  "
                        ]
                    },
                    "metadata": { }
                }
            ]
        },
        {
            "cell_type": "markdown",
            "source": "## 依據play id 將各個位置的frameId資料整合 當作一個Sequence",
            "metadata": {
                "_cell_guid": "08ee5ff8-384d-4a52-9317-bbbb5f408d7e",
                "_uuid": "ce7fa3ed-e61e-4734-86db-7ef1f70e815a",
                "papermill": {
                    "duration": 0.00784,
                    "end_time": "2022-12-24T18:19:42.700998",
                    "exception": false,
                    "start_time": "2022-12-24T18:19:42.693158",
                    "status": "completed"
                },
                "tags": [ ]
            }
        },
        {
            "cell_type": "code",
            "source": "def format_features(row,tracking_data_source_df=None, all_positions=None ,feature_cols=None):

    #print(f'row:{row}')
    filter = (tracking_data_source_df['gameId'] == row['gameId']) \\
             & (tracking_data_source_df['playId'] == row['playId'])

    ''' 取出相對應的play資料'''
    play_df = tracking_data_source_df.loc[filter]
    '''取得frames的集合並排序'''
    frames = sorted(play_df['frameId'].unique())
    #print(f'frames:{frames}')

    frame_data = [] #容器用以裝入處理好的frame data

    '''  Iterate through every frame in the play'''
    for fid in frames:
         #print(f'fid:{fid}')
         features = np.array([])
         '''Iterate每個位置，不一定在play每個位置都會有'''
         for pos in all_positions:
                if pos!='':
                    pos_data = play_df.loc[(play_df['frameId'] == fid) &
                                   (play_df['nflId_officialPosition'] == pos),
                                   feature_cols].values

                    pos_data =np.nan_to_num(np.hstack(pos_data))
                    #print(f'pos:{pos}')
                    #print(f'Typr:{type(pos_data)}')
                    #print(f'pos_data:{pos_data}')
                    features = np.hstack((features, pos_data))
         #print(f'features:{features}')
         print(f'features len:{len(features)}')
         frame_data.append(features)
         #break

    return frame_data


def get_pass_results(row , plays_df):

    return plays_df.loc[(plays_df['gameId'] == row['gameId']) &
                        (plays_df['playId'] == row['playId']),
                        'passResult'].values[0]",
            "metadata": {
                "_cell_guid": "3d5eb2b8-afbc-4bf4-9eec-8f00886f8a45",
                "_uuid": "a372c32a-213f-44dc-9e3b-e3e29f536ec6",
                "collapsed": false,
                "execution": {
                    "iopub.execute_input": "2022-12-24T18:19:42.719426Z",
                    "iopub.status.busy": "2022-12-24T18:19:42.719058Z",
                    "iopub.status.idle": "2022-12-24T18:19:42.730286Z",
                    "shell.execute_reply": "2022-12-24T18:19:42.729469Z"
                },
                "jupyter": {
                    "outputs_hidden": false
                },
                "papermill": {
                    "duration": 0.023032,
                    "end_time": "2022-12-24T18:19:42.732347",
                    "exception": false,
                    "start_time": "2022-12-24T18:19:42.709315",
                    "status": "completed"
                },
                "tags": [ ]
            },
            "execution_count": 15,
            "outputs": [ ]
        },
        {
            "cell_type": "code",
            "source": "# These are the column names to use as feature data.
feature_label_df = df_gp.copy()
feature_label_df['labels'] = feature_label_df.parallel_apply(get_pass_results, axis=1 , plays_df = df_plays)
feature_cols = ['nflId','x', 'y', 's', 'a', 'dis', 'o', 'dir','nflId_weight']
all_positions = sorted(pos_counts_max.keys())
feature_label_df['features']= df_gp.parallel_apply(format_features, axis=1, args=[ df_tracking,all_positions,feature_cols])",
            "metadata": {
                "_cell_guid": "d82439fa-0c55-4d3f-b1bf-da63625ce715",
                "_uuid": "df1a4e50-dae9-41a9-8fcd-b66226782ffd",
                "collapsed": false,
                "execution": {
                    "iopub.execute_input": "2022-12-24T18:19:42.751705Z",
                    "iopub.status.busy": "2022-12-24T18:19:42.751116Z",
                    "iopub.status.idle": "2022-12-24T18:19:46.101216Z",
                    "shell.execute_reply": "2022-12-24T18:19:46.099809Z"
                },
                "jupyter": {
                    "outputs_hidden": false
                },
                "papermill": {
                    "duration": 3.362987,
                    "end_time": "2022-12-24T18:19:46.103970",
                    "exception": false,
                    "start_time": "2022-12-24T18:19:42.740983",
                    "status": "completed"
                },
                "tags": [ ]
            },
            "execution_count": 16,
            "outputs": [
                {
                    "output_type": "display_data",
                    "data": {
                        "application/vnd.jupyter.widget-view+json": {
                            "model_id": "dde40dd4ab47453397385413bdd939e7",
                            "version_major": 2,
                            "version_minor": 0
                        },
                        "text/plain": [
                            "VBox(children=(HBox(children=(IntProgress(value=0, description='0.00%', max=1), Label(value='0 / 1'))),))"
                        ]
                    },
                    "metadata": { }
                },
                {
                    "output_type": "display_data",
                    "data": {
                        "application/vnd.jupyter.widget-view+json": {
                            "model_id": "4d86d55883074b279bb81b06f4decff9",
                            "version_major": 2,
                            "version_minor": 0
                        },
                        "text/plain": [
                            "VBox(children=(HBox(children=(IntProgress(value=0, description='0.00%', max=1), Label(value='0 / 1'))),))"
                        ]
                    },
                    "metadata": { }
                },
                {
                    "name": "stdout",
                    "output_type": "stream",
                    "text": "features len:198

features len:198

features len:198

features len:198

features len:198

features len:198

features len:198

features len:198

features len:198

features len:198

features len:198

features len:198

features len:198

features len:198

features len:198

features len:198

features len:198

features len:198

features len:198

features len:198

features len:198

features len:198

features len:198

features len:198

features len:198

features len:198

features len:198

features len:198

features len:198

features len:198

features len:198

features len:198

features len:198

features len:198

features len:198

features len:198

features len:198

features len:198

features len:198

features len:198

features len:198

features len:198

features len:198

features len:198

features len:198

features len:198

features len:198
"
                }
            ]
        },
        {
            "cell_type": "code",
            "source": "feature_label_df",
            "metadata": {
                "_cell_guid": "ba39acb3-0500-4706-a844-b67b17e9a2d8",
                "_uuid": "112674bc-54b2-44c5-aee5-233c8b4705ce",
                "collapsed": false,
                "execution": {
                    "iopub.execute_input": "2022-12-24T18:19:46.138209Z",
                    "iopub.status.busy": "2022-12-24T18:19:46.137460Z",
                    "iopub.status.idle": "2022-12-24T18:19:46.202524Z",
                    "shell.execute_reply": "2022-12-24T18:19:46.201402Z"
                },
                "jupyter": {
                    "outputs_hidden": false
                },
                "papermill": {
                    "duration": 0.086106,
                    "end_time": "2022-12-24T18:19:46.204902",
                    "exception": false,
                    "start_time": "2022-12-24T18:19:46.118796",
                    "status": "completed"
                },
                "tags": [ ]
            },
            "execution_count": 17,
            "outputs": [
                {
                    "execution_count": 17,
                    "output_type": "execute_result",
                    "data": {
                        "text/html": [
                            "<div>
",
                            "<style scoped>
",
                            "    .dataframe tbody tr th:only-of-type {
",
                            "        vertical-align: middle;
",
                            "    }
",
                            "
",
                            "    .dataframe tbody tr th {
",
                            "        vertical-align: top;
",
                            "    }
",
                            "
",
                            "    .dataframe thead th {
",
                            "        text-align: right;
",
                            "    }
",
                            "</style>
",
                            "<table border=\"1\" class=\"dataframe\">
",
                            "  <thead>
",
                            "    <tr style=\"text-align: right;\">
",
                            "      <th></th>
",
                            "      <th>gameId</th>
",
                            "      <th>playId</th>
",
                            "      <th>labels</th>
",
                            "      <th>features</th>
",
                            "    </tr>
",
                            "  </thead>
",
                            "  <tbody>
",
                            "    <tr>
",
                            "      <th>0</th>
",
                            "      <td>2021100700</td>
",
                            "      <td>95</td>
",
                            "      <td>C</td>
",
                            "      <td>[[46180.0, 23.9, 29.93, 0.0, 0.0, 0.01, 60.14,...</td>
",
                            "    </tr>
",
                            "  </tbody>
",
                            "</table>
",
                            "</div>"
                        ],
                        "text/plain": [
                            "       gameId  playId labels  \\
",
                            "0  2021100700      95      C
",
                            "
",
                            "                                            features
",
                            "0  [[46180.0, 23.9, 29.93, 0.0, 0.0, 0.01, 60.14,...  "
                        ]
                    },
                    "metadata": { }
                }
            ]
        },
        {
            "cell_type": "code",
            "source": "#針對前處理的資料先排除label == R
feature_label_df = feature_label_df.drop(feature_label_df[feature_label_df.labels == 'R'].index)

#labels one hot encoding
category_one_hot = {'C': [1.0, 0.0, 0.0, 0.0],'I': [0.0, 1.0, 0.0, 0.0],
                    'S': [0.0, 0.0, 1.0, 0.0],'IN': [0.0, 0.0, 0.0, 1.0]}
categories = feature_label_df['labels'].apply(lambda lbl: category_lookup[lbl])
labels_input = np.stack(categories)

#features
features_input = np.stack(feature_label_df['features'])",
            "metadata": { },
            "execution_count": null,
            "outputs": [ ]
        },
        {
            "cell_type": "code",
            "source": "from sklearn.model_selection import train_test_split
#切分訓練集(驗證集)、測試集
train_x, test_x, train_y, test_y = train_test_split(features_input, labels_input, test_size = 0.1)
train_x, val_x, train_y, val_y = train_test_split(train_x, train_y, test_size = 0.23)",
            "metadata": { },
            "execution_count": null,
            "outputs": [ ]
        },
        {
            "cell_type": "markdown",
            "source": "# The Model",
            "metadata": { }
        },
        {
            "cell_type": "code",
            "source": "from keras.models import Sequential
from keras.layers import LSTM, Dropout, Dense, Activation
from keras.losses import CategoricalCrossentropy
from keras.metrics import AUC",
            "metadata": { },
            "execution_count": null,
            "outputs": [ ]
        },
        {
            "cell_type": "code",
            "source": "frameNum = 64    #每一play的frame數量
featureNum = 184 #(每對11個選手 * 2 + 1 (ball)) * 8 特徵

model = Sequential()
model.add(LSTM(100, input_shape = (frameNum,featureNum)))
model.add(Dropout(0.2))
model.add(Dense(4, kernel_regularizer = 'l2')) #針對權重bias_regularizer
model.add(Activation('softmax'))
model.compile(loss = CategoricalCrossentropy(label_smoothing = 0.993),
              optimizer = 'adam', metrics = [AUC()])
model.summary()",
            "metadata": { },
            "execution_count": null,
            "outputs": [ ]
        },
        {
            "cell_type": "code",
            "source": "import matplotlib.pyplot as plt

# Trainging
EPOCHS = 10
BATCH_SIZE = 100
history = model.fit(train_x, train_y,
                    validation_data = (val_x, val_y),
                    epochs = EPOCHS, batch_size = BATCH_SIZE)",
            "metadata": { },
            "execution_count": null,
            "outputs": [ ]
        },
        {
            "cell_type": "code",
            "source": "# Plot the loss and accuracy
fig = plt.figure(figsize=(15, 5)) #設定圖形大小

#左邊Loss圖
loss_plot = fig.add_subplot(1,2,1)
loss_plot.plot(history.history['loss'], color='blue', label='Train')
loss_plot.plot(history.history['val_loss'], color='darkorange', linestyle='dashed', label='Val')

loss_plot.title.set_text('Loss')
loss_plot.legend()

#右邊AUC
auc_plot = fig.add_subplot(1, 2, 2)

auc_hist = next(v for k, v in history.history.items() if k.startswith('auc')) #e.g.,auc_1 找aux前綴
auc_plot.plot(auc_hist, color='blue', label='Train')
val_auc_hist = next(v for k, v in history.history.items() if k.startswith('val_auc'))
auc_plot.plot(val_auc_hist, color='darkorange', linestyle='dashed', label='Val')

auc_plot.title.set_text('AUC')
auc_plot.legend()",
            "metadata": { },
            "execution_count": null,
            "outputs": [ ]
        },
        {
            "cell_type": "code",
            "source": "# 用測試集評估模型
score = model.evaluate(test_x, test_y, verbose = 2)
print('Loss:', score[0])
print('AUC:' , score[1])",
            "metadata": { },
            "execution_count": null,
            "outputs": [ ]
        },
        {
            "cell_type": "markdown",
            "source": "## Trace Animate",
            "metadata": { }
        },
        {
            "cell_type": "code",
            "source": "import pandas as pd
import numpy as np
import os
#import seaborn as sns
#from ipywidgets import interact, fixed
from tqdm import tqdm

import matplotlib.pyplot as plt
import matplotlib.patches as patches
from matplotlib import animation
from matplotlib.animation import FFMpegWriter

from datetime import datetime
import dateutil
from math import radians
from IPython.display import Video
import warnings
warnings.filterwarnings('ignore')

def create_football_field(linenumbers=True,
                          endzones=True,
                          highlight_line=False,
                          highlight_line_number=55,
                          highlight_first_down_line=False,
                          yards_to_go=10,
                          highlighted_name='Line of Scrimmage',
                          fifty_is_los=False,
                          figsize=(12, 6.33)):
    \"\"\"
    Function that plots the football field for viewing plays.
    Allows for showing or hiding endzones.
    \"\"\"
    rect = patches.Rectangle((0, 0), 120, 53.3, linewidth=0.1,
                             edgecolor='r', facecolor='darkgreen', zorder=0)

    fig, ax = plt.subplots(1, figsize=figsize)
    ax.add_patch(rect)

    plt.plot([10, 10, 10, 20, 20, 30, 30, 40, 40, 50, 50, 60, 60, 70, 70, 80,
              80, 90, 90, 100, 100, 110, 110, 120, 0, 0, 120, 120],
             [0, 0, 53.3, 53.3, 0, 0, 53.3, 53.3, 0, 0, 53.3, 53.3, 0, 0, 53.3,
              53.3, 0, 0, 53.3, 53.3, 0, 0, 53.3, 53.3, 53.3, 0, 0, 53.3],
             color='white')
    if fifty_is_los:
        plt.plot([60, 60], [0, 53.3], color='gold')
        plt.text(62, 50, '<- Player Yardline at Snap', color='gold')
    # Endzones
    if endzones:
        ez1 = patches.Rectangle((0, 0), 10, 53.3,
                                linewidth=0.1,
                                edgecolor='r',
                                facecolor='blue',
                                alpha=0.2,
                                zorder=0)
        ez2 = patches.Rectangle((110, 0), 120, 53.3,
                                linewidth=0.1,
                                edgecolor='r',
                                facecolor='blue',
                                alpha=0.2,
                                zorder=0)
        ax.add_patch(ez1)
        ax.add_patch(ez2)
    plt.xlim(0, 120)
    plt.ylim(-5, 58.3)
    plt.axis('off')
    if linenumbers:
        for x in range(20, 110, 10):
            numb = x
            if x > 50:
                numb = 120 - x
            plt.text(x, 5, str(numb - 10),
                     horizontalalignment='center',
                     fontsize=20,  # fontname='Arial',
                     color='white')
            plt.text(x - 0.95, 53.3 - 5, str(numb - 10),
                     horizontalalignment='center',
                     fontsize=20,  # fontname='Arial',
                     color='white', rotation=180)
    if endzones:
        hash_range = range(11, 110)
    else:
        hash_range = range(1, 120)

    for x in hash_range:
        ax.plot([x, x], [0.4, 0.7], color='white')
        ax.plot([x, x], [53.0, 52.5], color='white')
        ax.plot([x, x], [22.91, 23.57], color='white')
        ax.plot([x, x], [29.73, 30.39], color='white')

    if highlight_line:
        hl = highlight_line_number + 10
        plt.plot([hl, hl], [0, 53.3], color='yellow')
        #plt.text(hl + 2, 50, '<- {}'.format(highlighted_name),
        #         color='yellow')

    if highlight_first_down_line:
        fl = hl + yards_to_go
        plt.plot([fl, fl], [0, 53.3], color='yellow')
        #plt.text(fl + 2, 50, '<- {}'.format(highlighted_name),
        #         color='yellow')
    return fig, ax

def calculate_dx_dy_arrow(x, y, angle, speed, multiplier):
    if angle <= 90:
        angle = angle
        dx = np.sin(radians(angle)) * multiplier * speed
        dy = np.cos(radians(angle)) * multiplier * speed
        return dx, dy
    if angle > 90 and angle <= 180:
        angle = angle - 90
        dx = np.sin(radians(angle)) * multiplier * speed
        dy = -np.cos(radians(angle)) * multiplier * speed
        return dx, dy
    if angle > 180 and angle <= 270:
        angle = angle - 180
        dx = -(np.sin(radians(angle)) * multiplier * speed)
        dy = -(np.cos(radians(angle)) * multiplier * speed)
        return dx, dy
    if angle > 270 and angle <= 360:
        angle = 360 - angle
        dx = -np.sin(radians(angle)) * multiplier * speed
        dy = np.cos(radians(angle)) * multiplier * speed
        return dx, dy


def animate_player_movement(weekNumber, playId, gameId):
    path = './data/'

    if(environment == 'kaggle'):
        path = '/kaggle/input'
    elif (environment == 'client'):
        path = './data/'

    weekData = pd.read_csv(path + 'week' + str(weekNumber) + '.csv')
    playData = pd.read_csv(path + 'plays.csv')
    gameData = pd.read_csv(path + 'games.csv')
    game = gameData.loc[gameData['gameId'] == gameId]
    team_home = game['homeTeamAbbr'].iloc[0]
    team_visit = game['visitorTeamAbbr'].iloc[0]

    playHome = weekData.query('gameId==' + str(gameId) + ' and playId==' + str(playId) + ' and team == \"' + str(team_home) + '\"')
    playAway = weekData.query('gameId==' + str(gameId) + ' and playId==' + str(playId) + ' and team == \"' + str(team_visit) + '\"')
    playFootball = weekData.query('gameId==' + str(gameId) + ' and playId==' + str(playId) + ' and team == \"football\"')

    playHome['time'] = playHome['time'].apply(lambda x: dateutil.parser.parse(x).timestamp()).rank(method='dense')
    playAway['time'] = playAway['time'].apply(lambda x: dateutil.parser.parse(x).timestamp()).rank(method='dense')
    playFootball['time'] = playFootball['time'].apply(lambda x: dateutil.parser.parse(x).timestamp()).rank(method='dense')
    # Need to replace NaN in the 'position' column with 'ball' to match the training data.
    #playFootball['position'].fillna('ball', inplace=True)

    maxTime = int(playAway['time'].unique().max())
    minTime = int(playAway['time'].unique().min())

    yardlineNumber = playData.query('gameId==' + str(gameId) + ' and playId==' + str(playId))['yardlineNumber'].item()
    yardsToGo = playData.query('gameId==' + str(gameId) + ' and playId==' + str(playId))['yardsToGo'].item()
    absoluteYardlineNumber = playData.query('gameId==' + str(gameId) + ' and playId==' + str(playId))['absoluteYardlineNumber'].item() - 10
    playDir = playHome.sample(1)['playDirection'].item()

    if (absoluteYardlineNumber > 50):
        yardlineNumber = 100 - yardlineNumber
    if (absoluteYardlineNumber <= 50):
        yardlineNumber = yardlineNumber

    if (playDir == 'left'):
        yardsToGo = -yardsToGo
    else:
        yardsToGo = yardsToGo

    fig, ax = create_football_field(highlight_line=True, highlight_line_number=yardlineNumber, highlight_first_down_line=True, yards_to_go=yardsToGo)
    playDesc = playData.query('gameId==' + str(gameId) + ' and playId==' + str(playId))['playDescription'].item()
    plt.title(f'Game # {gameId} Play # {playId} \\n {playDesc}')

    def update_animation(time):
        patch = []

        homeX = playHome.query('time == ' + str(time))['x']
        homeY = playHome.query('time == ' + str(time))['y']
        homeNum = playHome.query('time == ' + str(time))['jerseyNumber']
        homeOrient = playHome.query('time == ' + str(time))['o']
        homeDir = playHome.query('time == ' + str(time))['dir']
        homeSpeed = playHome.query('time == ' + str(time))['s']
        patch.extend(plt.plot(homeX, homeY, 'o',c='gold', ms=20, mec='white'))

        # Home players' jersey number
        for x, y, num in zip(homeX, homeY, homeNum):
            patch.append(plt.text(x, y, int(num), va='center', ha='center', color='black', size='medium'))

        # Home players' orientation
        for x, y, orient in zip(homeX, homeY, homeOrient):
            dx, dy = calculate_dx_dy_arrow(x, y, orient, 1, 1)
            patch.append(plt.arrow(x, y, dx, dy, color='gold', width=0.5, shape='full'))

        # Home players' direction
        for x, y, direction, speed in zip(homeX, homeY, homeDir, homeSpeed):
            dx, dy = calculate_dx_dy_arrow(x, y, direction, speed, 1)
            patch.append(plt.arrow(x, y, dx, dy, color='black', width=0.25, shape='full'))

        # Home players' location
        awayX = playAway.query('time == ' + str(time))['x']
        awayY = playAway.query('time == ' + str(time))['y']
        awayNum = playAway.query('time == ' + str(time))['jerseyNumber']
        awayOrient = playAway.query('time == ' + str(time))['o']
        awayDir = playAway.query('time == ' + str(time))['dir']
        awaySpeed = playAway.query('time == ' + str(time))['s']
        patch.extend(plt.plot(awayX, awayY, 'o',c='orangered', ms=20, mec='white'))

        # Away players' jersey number
        for x, y, num in zip(awayX, awayY, awayNum):
            patch.append(plt.text(x, y, int(num), va='center', ha='center', color='white', size='medium'))

        # Away players' orientation
        for x, y, orient in zip(awayX, awayY, awayOrient):
            dx, dy = calculate_dx_dy_arrow(x, y, orient, 1, 1)
            patch.append(plt.arrow(x, y, dx, dy, color='orangered', width=0.5, shape='full'))

        # Away players' direction
        for x, y, direction, speed in zip(awayX, awayY, awayDir, awaySpeed):
            dx, dy = calculate_dx_dy_arrow(x, y, direction, speed, 1)
            patch.append(plt.arrow(x, y, dx, dy, color='black', width=0.25, shape='full'))

        # Away players' location
        footballX = playFootball.query('time == ' + str(time))['x']
        footballY = playFootball.query('time == ' + str(time))['y']
        patch.extend(plt.plot(footballX, footballY, 'o', c='black', ms=10, mec='white', data=playFootball.query('time == ' + str(time))['team']))

        # Display the pass outcome prediction in the title area
        features_df = pd.concat([playHome.loc[playHome['time'] <= time],
                                 playAway.loc[playAway['time'] <= time],
                                 playFootball.loc[playFootball['time'] <= time]])
        #prediction = get_prediction(features_df)
        #patch.append(plt.text(40, 55, f'Pass prediction: {prediction}', ha='left', color='red', size='x-large', weight='bold'))

        return patch

    ims = [[]]
    for time in tqdm(np.arange(minTime, maxTime+1)):
    #    for time in [minTime, minTime+1, minTime+2]:
        patch = update_animation(time)
        ims.append(patch)

    anim = animation.ArtistAnimation(fig, ims, repeat=False)

    return anim",
            "metadata": { },
            "execution_count": null,
            "outputs": [ ]
        },
        {
            "cell_type": "markdown",
            "source": "## get animate video",
            "metadata": { }
        },
        {
            "cell_type": "code",
            "source": "# video create
gameID = 2021091600
playID = 65
weekNum = 2
video = animate_player_movement(weekNum,playID,gameID)
video.save(path + 'video.mp4')",
            "metadata": { },
            "execution_count": null,
            "outputs": [ ]
        }
    ]
}